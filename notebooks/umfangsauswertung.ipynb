{
 "cells": [
  {
   "cell_type": "code",
   "execution_count": 1,
   "metadata": {},
   "outputs": [],
   "source": [
    "import pandas as pd\n",
    "import re\n",
    "import logging\n",
    "import glob"
   ]
  },
  {
   "cell_type": "code",
   "execution_count": 2,
   "metadata": {},
   "outputs": [],
   "source": [
    "# Funktionen zur Umfangsauswertung von https://github.com/hbeyer/pylib/blob/main/lib/pica.py\n",
    "\n",
    "class Numeral:\n",
    "    conc = {\n",
    "        \"i\" : 1,\n",
    "        \"v\" : 5,\n",
    "        \"x\" : 10,\n",
    "        \"l\" : 50,\n",
    "        \"c\" : 100,\n",
    "        \"d\" : 500,\n",
    "        \"m\" : 1000\n",
    "    }\n",
    "    conca = {\n",
    "        1000 : \"m\",\n",
    "        500 : \"d\",\n",
    "        100 : \"c\",\n",
    "        50 : \"l\",\n",
    "        10 : \"x\",\n",
    "        5 : \"v\",\n",
    "        1 : \"i\"\n",
    "    }\n",
    "    subst = {\n",
    "        \"dcccc\" : \"cm\",\n",
    "        \"lxxxx\" : \"xc\",\n",
    "        \"viiii\" : \"ix\",\n",
    "        \"cccc\" : \"cd\",\n",
    "        \"xxxx\" : \"xl\",\n",
    "        \"iiii\" : \"iv\"\n",
    "    }\n",
    "\n",
    "def to_arabic(lett):\n",
    "    sum = 0\n",
    "    subtr = False\n",
    "    lett = lett.strip().lower().replace(\".\", \"\").replace(\" \", \"\")\n",
    "    if re.match(r\"[ivxlcdm]+\", lett) == None:\n",
    "        return(None)\n",
    "    rev = lett[::-1]\n",
    "    last = 0\n",
    "    for let in rev:\n",
    "        val = Numeral.conc[let]\n",
    "        if val >= last:\n",
    "            sum += val\n",
    "            subtr = False\n",
    "        elif val < last:\n",
    "            sum -= val\n",
    "            subtr = True\n",
    "        elif val == last and subtr == True:\n",
    "            sum -= val\n",
    "        last = val\n",
    "    return(sum)\n",
    "    \n",
    "def to_roman(num):\n",
    "    if isinstance(num, int) == False:\n",
    "        return(None)\n",
    "    rom = \"\"\n",
    "    while num > 0:\n",
    "        for key in Numeral.conca:\n",
    "            if num >= key:\n",
    "                rom = rom + Numeral.conca[key]\n",
    "                num -= key\n",
    "                break\n",
    "    for add, sub in Numeral.subst.items():\n",
    "        rom = rom.replace(add, sub)\n",
    "    return(rom)\n",
    "\n",
    "def get_norm_p(pages):\n",
    "    normp = 0\n",
    "    chunks = re.findall(r\"(([^BS]+) (Bl)|([^BS]+) (S$|S[^p]|Bo)|([^BS]+) Sp)\", pages)\n",
    "    for ch in chunks:\n",
    "        wh, numbl, _bl, nums, _sbo, numsp = ch\n",
    "        if \"-\" in wh:\n",
    "            continue\n",
    "        if numbl != \"\":\n",
    "            normp += get_number(numbl, 2)\n",
    "        elif nums != \"\":\n",
    "            normp += get_number(nums)\n",
    "        elif numsp != \"\":\n",
    "            normp += get_number(numsp, 0.5)\n",
    "    chunks2 = re.findall(r\"S\\.? \\d+ ?- ?\\d+\", pages)\n",
    "    for ch2 in chunks2:\n",
    "        normp += get_number(ch2)\n",
    "    return(normp)\n",
    "\n",
    "def get_number(page_string, mult=1):\n",
    "    res = 0\n",
    "    clean = re.sub(r\"[\\divxdclmIVXDCLM]+,? \\[?(das heißt|i. ?e.)\", \"\", page_string)\n",
    "    spans = re.findall(\"(\\[?(\\d+)\\]? ?- ?\\[?(\\d+)\\]?)\", clean)\n",
    "    for span in spans:\n",
    "        whole, start, end = span\n",
    "        diff = int(end) - int(start)\n",
    "        clean = re.sub(whole, str(diff), clean)\n",
    "    extract = re.findall(r\"\\d+\", clean)\n",
    "    for num in extract:\n",
    "        res += int(num)\n",
    "    extract = re.findall(r\"([ivxdclm]+) \", clean.lower())\n",
    "    for num in extract:\n",
    "        arab = to_arabic(num)\n",
    "        if arab == None:\n",
    "            logging.error(f\"Nicht zu parsen: {num}\")\n",
    "        else:\n",
    "            res += arab\n",
    "    return(int(res * mult))"
   ]
  },
  {
   "cell_type": "code",
   "execution_count": 3,
   "metadata": {},
   "outputs": [],
   "source": [
    "files = glob.glob(\"../abzug/*.csv\")\n",
    "\n",
    "df = pd.DataFrame()\n",
    "\n",
    "for file in files:\n",
    "    df = pd.concat([df,pd.read_csv(file)], ignore_index=True)\n",
    "\n",
    "df[\"normpages\"] = df.umfang.map(get_norm_p, na_action='ignore')"
   ]
  },
  {
   "cell_type": "code",
   "execution_count": null,
   "metadata": {},
   "outputs": [],
   "source": [
    "df"
   ]
  },
  {
   "cell_type": "code",
   "execution_count": 5,
   "metadata": {},
   "outputs": [
    {
     "data": {
      "application/vnd.jupyter.widget-view+json": {
       "model_id": "1f7c6b7422c3462cb13a854ec3ca3ab0",
       "version_major": 2,
       "version_minor": 0
      },
      "text/plain": [
       "MitoWidget(analysis_data_json='{\"analysisName\": \"id-fgxykrqafp\", \"analysisToReplay\": null, \"code\": [], \"stepSu…"
      ]
     },
     "metadata": {},
     "output_type": "display_data"
    }
   ],
   "source": [
    "import mitosheet\n",
    "mitosheet.sheet(df, analysis_to_replay=\"id-fgxykrqafp\")"
   ]
  },
  {
   "cell_type": "code",
   "execution_count": null,
   "metadata": {},
   "outputs": [],
   "source": [
    "from mitosheet import *; register_analysis(\"id-fgxykrqafp\");\n",
    "    \n",
    "# Sorted normpages in descending order\n",
    "df = df.sort_values(by='normpages', ascending=False, na_position='last')\n",
    "\n",
    "# Reordered column normpages\n",
    "df_columns = [col for col in df.columns if col != 'normpages']\n",
    "df_columns.insert(16, 'normpages')\n",
    "df = df[df_columns]\n",
    "\n",
    "# Reordered column normpages\n",
    "df_columns = [col for col in df.columns if col != 'normpages']\n",
    "df_columns.insert(12, 'normpages')\n",
    "df = df[df_columns]\n",
    "\n",
    "# Reordered column normpages\n",
    "df_columns = [col for col in df.columns if col != 'normpages']\n",
    "df_columns.insert(9, 'normpages')\n",
    "df = df[df_columns]\n",
    "\n",
    "# Changed normpages to dtype int\n",
    "df['normpages'] = df['normpages'].fillna(0).astype('int')\n",
    "\n",
    "# Filtered signatur_a\n",
    "df = df[~df['signatur_a'].str.contains('Frag', na=False)]\n",
    "\n",
    "# Sorted normpages in ascending order\n",
    "df = df.sort_values(by='normpages', ascending=True, na_position='first')\n",
    "\n",
    "# Filtered bbg\n",
    "df = df[~df['bbg'].str.contains('Qd', na=False)]\n",
    "\n",
    "# Filtered normpages\n",
    "df = df[df['normpages'] > 0]\n"
   ]
  }
 ],
 "metadata": {
  "kernelspec": {
   "display_name": "Python 3 (ipykernel)",
   "language": "python",
   "name": "python3"
  },
  "language_info": {
   "codemirror_mode": {
    "name": "ipython",
    "version": 3
   },
   "file_extension": ".py",
   "mimetype": "text/x-python",
   "name": "python",
   "nbconvert_exporter": "python",
   "pygments_lexer": "ipython3",
   "version": "3.10.5"
  },
  "vscode": {
   "interpreter": {
    "hash": "c1f3544edc72c7c85741602f299edbe2e937e25334175821da4f2ef53b590bd7"
   }
  }
 },
 "nbformat": 4,
 "nbformat_minor": 4
}
