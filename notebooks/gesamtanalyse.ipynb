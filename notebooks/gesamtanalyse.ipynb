{
 "cells": [
  {
   "cell_type": "code",
   "execution_count": 8,
   "metadata": {},
   "outputs": [],
   "source": [
    "import pandas as pd\n",
    "import mitosheet\n",
    "from natsort import index_natsorted\n",
    "import numpy as np"
   ]
  },
  {
   "cell_type": "markdown",
   "metadata": {},
   "source": [
    "__ACHTUNG__: dieses Notebook dient nur dem Testen der Skripte. Es wird nicht beim Ausführen der Pipeline mit `dvc repro` ausgeführt. Alle Änderungen müssen in `skripte/abzug.py` eingefügt werden."
   ]
  },
  {
   "cell_type": "markdown",
   "metadata": {},
   "source": [
    "# Bö Ink\n",
    "\n",
    "Alle Datensätze, ausgefiltert:\n",
    "\n",
    "- Sätze mit Verknüpfung in 4105 (Verknüpfung Qd)\n",
    "- Sätze mit Verknüpfung in 4241 (Beziehung zu größerer Einheit) \n",
    "- Sätze mit Verknüpfung in 4256 (Reproduktion)\n",
    "- Sätze mit Verknüpfung in 4243 (Parallelausgabe)\n",
    "- \"angeb\" in Signatur\n",
    "- Satzart \"Aaq\"\n",
    "- Standort DA"
   ]
  },
  {
   "cell_type": "code",
   "execution_count": null,
   "metadata": {},
   "outputs": [],
   "source": [
    "df = pd.read_csv(\"../abzug/böink.csv\")\n",
    "\n",
    "# Filtered f4105_9\n",
    "df = df[df[\"f4105_9\"].isna()]\n",
    "\n",
    "# Filtered f4241\n",
    "df = df[df[\"f4241\"].isna()]\n",
    "\n",
    "# Filtered f4256\n",
    "df = df[df[\"f4256\"].isna()]\n",
    "\n",
    "# Filtered f4243\n",
    "df = df[df[\"f4243\"].isna()]\n",
    "\n",
    "# Filtered signatur_g\n",
    "df = df[~df[\"signatur_g\"].str.contains(\"angeb\", na=False, case=False)]\n",
    "\n",
    "# Filtered signatur_a\n",
    "df = df[~df[\"signatur_a\"].str.contains(\"angeb\", na=False, case=False)]\n",
    "\n",
    "# Filtered bbg\n",
    "df = df[~df[\"bbg\"].str.contains(\"Aaq\", na=False)]\n",
    "\n",
    "# Filtered standort\n",
    "df = df[df[\"standort\"] != \"DBSM/DA\"]\n",
    "\n",
    "df = df.sort_values(by='signatur_a', ascending=True, na_position='first', key=lambda X: np.argsort(index_natsorted(df[\"signatur_a\"])))\n",
    "\n",
    "# df.to_csv(\"../dat/böink-filtered.csv\", index=False)\n",
    "df"
   ]
  },
  {
   "cell_type": "markdown",
   "metadata": {},
   "source": [
    "# II (Klemm-Inkunabeln)\n",
    "\n"
   ]
  },
  {
   "cell_type": "markdown",
   "metadata": {},
   "source": [
    "Alle Datensätze, ausgefiltert:\n",
    "\n",
    "- Sätze mit Verknüpfung in 4105 (Verknüpfung Qd)\n",
    "- Sätze mit Verknüpfung in 4241 (Beziehung zu größerer Einheit) \n",
    "- Sätze mit Verknüpfung in 4256 (Reproduktion)\n",
    "- Sätze mit Verknüpfung in 4243 (Parallelausgabe)\n",
    "- \"angeb\" in Signatur\n",
    "- Standort DA"
   ]
  },
  {
   "cell_type": "code",
   "execution_count": 13,
   "metadata": {},
   "outputs": [],
   "source": [
    "df = pd.read_csv(\"../abzug/ii.csv\")\n",
    "\n",
    "# Filtered f4256\n",
    "df = df[df[\"f4256\"].isna()]\n",
    "\n",
    "# Filtered f4105_9\n",
    "df = df[df[\"f4105_9\"].isna()]\n",
    "\n",
    "# Filtered f4241\n",
    "df = df[df[\"f4241\"].isna()]\n",
    "\n",
    "# Filtered f4243\n",
    "df = df[df[\"f4243\"].isna()]\n",
    "\n",
    "# Filtered signatur_g\n",
    "df = df[~df[\"signatur_g\"].str.contains(\"angeb\", na=False, case=False)]\n",
    "\n",
    "# Filtered signatur_a\n",
    "df = df[~df[\"signatur_a\"].str.contains(\"angeb\", na=False, case=False)]\n",
    "\n",
    "# Filtered standort\n",
    "df = df[df[\"standort\"] != \"DBSM/DA\"]\n",
    "\n",
    "# Filtered ausleihcode\n",
    "df = df[df['ausleihcode'] != 'e']\n",
    "\n",
    "df = df.sort_values(by='signatur_a', ascending=True, na_position='first', key=lambda X: np.argsort(index_natsorted(df[\"signatur_a\"])))\n",
    "\n",
    "# df.to_csv(\"../dat/ii-filtered.csv\", index=False)\n",
    "# df"
   ]
  },
  {
   "cell_type": "code",
   "execution_count": 14,
   "metadata": {},
   "outputs": [
    {
     "data": {
      "text/html": [
       "<div><div id=5d4dce66-274f-44d9-83e7-7fb8ece4d8b7 style=\"display:none; background-color:#9D6CFF; color:white; width:200px; height:30px; padding-left:5px; border-radius:4px; flex-direction:row; justify-content:space-around; align-items:center;\" onmouseover=\"this.style.backgroundColor='#BA9BF8'\" onmouseout=\"this.style.backgroundColor='#9D6CFF'\" onclick=\"window.commands?.execute('create-mitosheet-from-dataframe-output');\">See Full Dataframe in Mito</div> <script> if (window.commands?.hasCommand('create-mitosheet-from-dataframe-output')) document.getElementById('5d4dce66-274f-44d9-83e7-7fb8ece4d8b7').style.display = 'flex' </script> <table border=\"1\" class=\"dataframe\">\n",
       "  <thead>\n",
       "    <tr style=\"text-align: right;\">\n",
       "      <th></th>\n",
       "      <th>idn</th>\n",
       "      <th>akz</th>\n",
       "      <th>bbg</th>\n",
       "      <th>standort</th>\n",
       "      <th>signatur_g</th>\n",
       "      <th>signatur_a</th>\n",
       "      <th>titel</th>\n",
       "      <th>stuecktitel</th>\n",
       "      <th>f4243</th>\n",
       "      <th>f4256</th>\n",
       "      <th>f4241</th>\n",
       "      <th>f4105_9</th>\n",
       "      <th>f4105_g</th>\n",
       "      <th>ausleihcode</th>\n",
       "      <th>sig_komm</th>\n",
       "      <th>f4801_a</th>\n",
       "      <th>f4801_k</th>\n",
       "      <th>einrichtung</th>\n",
       "      <th>exemplar</th>\n",
       "    </tr>\n",
       "  </thead>\n",
       "  <tbody>\n",
       "  </tbody>\n",
       "</table></div>"
      ],
      "text/plain": [
       "Empty DataFrame\n",
       "Columns: [idn, akz, bbg, standort, signatur_g, signatur_a, titel, stuecktitel, f4243, f4256, f4241, f4105_9, f4105_g, ausleihcode, sig_komm, f4801_a, f4801_k, einrichtung, exemplar]\n",
       "Index: []"
      ]
     },
     "execution_count": 14,
     "metadata": {},
     "output_type": "execute_result"
    }
   ],
   "source": [
    "df"
   ]
  },
  {
   "cell_type": "markdown",
   "metadata": {},
   "source": [
    "# III (1501-1560)\n",
    "\n",
    "alle, hier ausgefilter:\n",
    "\n",
    "Alle Datensätze, ausgefiltert:\n",
    "\n",
    "- Sätze mit Verknüpfung in 4105 (Verknüpfung Qd)\n",
    "- Sätze mit Verknüpfung in 4241 (Beziehung zu größerer Einheit) \n",
    "- Sätze mit Verknüpfung in 4256 (Reproduktion)\n",
    "- Sätze mit Verknüpfung in 4243 (Parallelausgabe)\n",
    "- \"angeb\" in Signatur\n",
    "- Standort DA\n",
    "- Satzart Hal, Aaq\n",
    "- Signatur II 30,13"
   ]
  },
  {
   "cell_type": "code",
   "execution_count": null,
   "metadata": {},
   "outputs": [],
   "source": [
    "df = pd.read_csv(\"../abzug/iii.csv\")\n",
    "\n",
    "# Filtered signatur_g\n",
    "df = df[~df[\"signatur_g\"].str.contains(\"angeb\", na=False, case=False)]\n",
    "\n",
    "# Filtered signatur_a\n",
    "df = df[~df[\"signatur_a\"].str.contains(\"angeb\", na=False, case=False)]\n",
    "\n",
    "# Filtered f4243\n",
    "df = df[df[\"f4243\"].isna()]\n",
    "\n",
    "# Filtered f4256\n",
    "df = df[df[\"f4256\"].isna()]\n",
    "\n",
    "# Filtered f4241\n",
    "df = df[df[\"f4241\"].isna()]\n",
    "\n",
    "# Filtered f4105_9\n",
    "df = df[df[\"f4105_9\"].isna()]\n",
    "\n",
    "# Filtered standort\n",
    "df = df[df[\"standort\"] != \"DBSM/DA\"]\n",
    "\n",
    "# Filtered bbg\n",
    "df = df[df[\"bbg\"] != \"Hal\"]\n",
    "\n",
    "# Filtered bbg\n",
    "df = df[~df[\"bbg\"].str.contains(\"Aaq\", na=False)]\n",
    "\n",
    "# Filtered signatur_g\n",
    "df = df[~df[\"signatur_g\"].str.contains(\"II 30,13\", na=False)]\n",
    "\n",
    "df = df.sort_values(by='signatur_a', ascending=True, na_position='first', key=lambda X: np.argsort(index_natsorted(df[\"signatur_a\"])))\n",
    "\n",
    "#df.to_csv(\"../dat/iii-filtered.csv\", index=False)\n",
    "df"
   ]
  },
  {
   "cell_type": "markdown",
   "metadata": {},
   "source": [
    "# IV\n",
    "\n",
    "alle bis einschließlich EJ 1785, hier ausgefiltert:\n",
    "\n",
    "- Sätze mit Verknüpfung in 4105 (Verknüpfung Qd)\n",
    "- Sätze mit Verknüpfung in 4241 (Beziehung zu größerer Einheit) \n",
    "- Sätze mit Verknüpfung in 4256 (Reproduktion)\n",
    "- Sätze mit Verknüpfung in 4243 (Parallelausgabe)\n",
    "- \"angeb\" in Signatur\n",
    "- Standort DA\n",
    "- Zedler\n",
    "\n",
    "IDN manuell ausgesondert 1002995671 inkl. angehängte Werke\n",
    "Schreibmeisterbuch 1001523539 raus und in Sonderliste"
   ]
  },
  {
   "cell_type": "code",
   "execution_count": null,
   "metadata": {},
   "outputs": [],
   "source": [
    "df = pd.read_csv(\"../abzug/iv.csv\")\n",
    "\n",
    "# Filtered signatur_g\n",
    "df = df[~df[\"signatur_g\"].str.contains(\"angeb\", na=False, case=False)]\n",
    "\n",
    "# Filtered signatur_a\n",
    "df = df[~df[\"signatur_a\"].str.contains(\"angeb\", na=False, case=False)]\n",
    "\n",
    "# Filtered f4243\n",
    "df = df[df[\"f4243\"].isna()]\n",
    "\n",
    "# Filtered f4256\n",
    "df = df[df[\"f4256\"].isna()]\n",
    "\n",
    "# Filtered f4241\n",
    "df = df[df[\"f4241\"].isna()]\n",
    "\n",
    "# Filtered f4105_9\n",
    "df = df[df[\"f4105_9\"].isna()]\n",
    "\n",
    "# Filtered jahr\n",
    "df = df[df[\"jahr\"] <= 1785]\n",
    "\n",
    "# Filtered standort\n",
    "df = df[df[\"standort\"] != \"DBSM/DA\"]\n",
    "\n",
    "# Filtered signatur_g\n",
    "df = df[~df[\"signatur_a\"].str.contains(\"IV 205, 76\", na=False)]\n",
    "\n",
    "# Filtered signatur_a\n",
    "df = df[~df[\"signatur_a\"].str.contains(\"IV 205,76\", na=False)]\n",
    "\n",
    "# Filtered signatur_g\n",
    "df = df[~df[\"signatur_a\"].str.contains(\"IV 114, 15\", na=False)]\n",
    "\n",
    "# Filtered signatur_g\n",
    "df = df[~df[\"signatur_a\"].str.contains(\"IV 114, 13a\", na=False)]\n",
    "\n",
    "df = df.sort_values(by='signatur_a', ascending=True, na_position='first', key=lambda X: np.argsort(index_natsorted(df[\"signatur_a\"])))\n",
    "\n",
    "#df.to_csv(\"../dat/iv-filtered.csv\", index=False)\n",
    "df"
   ]
  },
  {
   "cell_type": "code",
   "execution_count": null,
   "metadata": {},
   "outputs": [],
   "source": []
  },
  {
   "cell_type": "markdown",
   "metadata": {},
   "source": [
    "# Bö M\n",
    "\n",
    "alle, hier ausgefilter:\n",
    "\n",
    "Alle Datensätze, ausgefiltert:\n",
    "\n",
    "- Sätze mit Verknüpfung in 4105 (Verknüpfung Qd)\n",
    "- Sätze mit Verknüpfung in 4241 (Beziehung zu größerer Einheit) \n",
    "- Sätze mit Verknüpfung in 4256 (Reproduktion)\n",
    "- Sätze mit Verknüpfung in 4243 (Parallelausgabe)\n",
    "- \"angeb\" in Signatur\n",
    "- Standort DA"
   ]
  },
  {
   "cell_type": "code",
   "execution_count": 6,
   "metadata": {},
   "outputs": [],
   "source": [
    "df = pd.read_csv(\"../abzug/böm.csv\")\n",
    "\n",
    "# Filtered signatur_g\n",
    "df = df[~df[\"signatur_g\"].str.contains(\"angeb\", na=False)]\n",
    "\n",
    "# Filtered signatur_a\n",
    "df = df[~df[\"signatur_a\"].str.contains(\"angeb\", na=False)]\n",
    "\n",
    "# Filtered f4243\n",
    "df = df[df[\"f4243\"].isna()]\n",
    "\n",
    "# Filtered f4256\n",
    "df = df[df[\"f4256\"].isna()]\n",
    "\n",
    "# Filtered f4241\n",
    "df = df[df[\"f4241\"].isna()]\n",
    "\n",
    "# Filtered f4105_9\n",
    "df = df[df[\"f4105_9\"].isna()]\n",
    "\n",
    "# Filtered standort\n",
    "df = df[df[\"standort\"] != \"DBSM/DA\"]\n",
    "\n",
    "# Filtered bbg\n",
    "df = df[df[\"bbg\"] != \"Hal\"]\n",
    "\n",
    "# Filtered bbg\n",
    "df = df[df[\"bbg\"] != \"Hfl\"]\n",
    "\n",
    "# Filtered bbg\n",
    "df = df[df[\"bbg\"] != \"Pa\"]\n",
    "\n",
    "df = df.sort_values(by='signatur_a', ascending=True, na_position='first', key=lambda X: np.argsort(index_natsorted(df[\"signatur_a\"])))\n",
    "\n",
    "#df.to_csv(\"../dat/böm_filtered.csv\", index=False)\n",
    "df"
   ]
  },
  {
   "cell_type": "markdown",
   "metadata": {},
   "source": [
    "# Abgleich mit den BE-Excel-Listen"
   ]
  },
  {
   "cell_type": "code",
   "execution_count": 12,
   "metadata": {},
   "outputs": [
    {
     "data": {
      "application/vnd.jupyter.widget-view+json": {
       "model_id": "660e7dc1b1f64e7c8590ecb6edb2e86e",
       "version_major": 2,
       "version_minor": 0
      },
      "text/plain": [
       "MitoWidget(analysis_data_json='{\"analysisName\": \"id-jvwcovkizb\", \"analysisToReplay\": {\"analysisName\": \"id-hcqy…"
      ]
     },
     "metadata": {},
     "output_type": "display_data"
    }
   ],
   "source": [
    "excel = pd.read_excel(\n",
    "    \"../raw/II_Inkunabeln+_test_Wendler.xlsm\", sheet_name=\"II_Inkunabeln+\", dtype={\"IDN\": str}\n",
    ")\n",
    "excel.rename({\"AKZ\": \"akz\", \"IDN\": \"idn\"}, axis=\"columns\", inplace=True)\n",
    "df['digitalisieren'] = \"Ja\"\n",
    "df_tmp = df.drop(['f4105_g', 'f4243', 'stuecktitel', 'ausleihcode', 'f4801_a', 'f4801_k', 'exemplar', 'f4241', 'titel', 'f4105_9', 'sig_komm', 'f4256', 'einrichtung'], axis=1)\n",
    "df3 = excel.merge(df_tmp, left_on=['akz', 'idn'], right_on=['akz', 'idn'], how='outer', suffixes=['_excel', '_df'])\n",
    "df3 = df3.sort_values(by=['Signatur', 'signatur_a'], ascending=True, na_position='first', key=lambda X: np.argsort(index_natsorted(zip(df3[\"Signatur\"],df3[\"signatur_a\"]))))\n",
    "# df3.to_excel(\"II-mit-nachweis-test.xlsx\", index=False)\n",
    "\n",
    "mitosheet.sheet(excel, df, analysis_to_replay=\"id-jvwcovkizb\")"
   ]
  },
  {
   "cell_type": "code",
   "execution_count": null,
   "metadata": {},
   "outputs": [],
   "source": [
    "from mitosheet import *; register_analysis(\"id-jvwcovkizb\");\n",
    "    \n",
    "# Merged excel and df into df3\n",
    "df_tmp = df.drop(['exemplar', 'einrichtung', 'f4243', 'stuecktitel', 'f4105_9', 'f4105_g', 'sig_komm', 'f4256', 'titel', 'ausleihcode', 'f4801_k', 'f4241', 'f4801_a'], axis=1)\n",
    "df3 = excel.merge(df_tmp, left_on=['akz', 'idn'], right_on=['akz', 'idn'], how='outer', suffixes=['_excel', '_df'])\n"
   ]
  },
  {
   "cell_type": "markdown",
   "metadata": {},
   "source": [
    "# Aal-Sätze filtern"
   ]
  },
  {
   "cell_type": "code",
   "execution_count": null,
   "metadata": {},
   "outputs": [],
   "source": [
    "df = pd.read_csv(\"../raw/Aal-4201.csv\")\n",
    "df"
   ]
  },
  {
   "cell_type": "code",
   "execution_count": 14,
   "metadata": {},
   "outputs": [
    {
     "data": {
      "application/vnd.jupyter.widget-view+json": {
       "model_id": "350ce8c1e4d143b4a2104c6e532d6eef",
       "version_major": 2,
       "version_minor": 0
      },
      "text/plain": [
       "MitoWidget(analysis_data_json='{\"analysisName\": \"id-naezqirqvc\", \"analysisToReplay\": null, \"code\": [], \"stepSu…"
      ]
     },
     "metadata": {},
     "output_type": "display_data"
    }
   ],
   "source": [
    "import mitosheet\n",
    "\n",
    "mitosheet.sheet(df, analysis_to_replay=\"id-naezqirqvc\")"
   ]
  },
  {
   "cell_type": "code",
   "execution_count": null,
   "metadata": {},
   "outputs": [],
   "source": [
    "from mitosheet import *\n",
    "\n",
    "register_analysis(\"id-naezqirqvc\")\n",
    "\n",
    "# Set formula of jahr\n",
    "df[\"jahr\"] = SUBSTITUTE(df[\"jahr\"], \"X\", \"0\")\n",
    "\n",
    "# Changed jahr to dtype int\n",
    "df[\"jahr\"] = to_int_series(df[\"jahr\"])\n",
    "\n",
    "# Filtered jahr\n",
    "df = df[df[\"jahr\"] <= 1785]"
   ]
  },
  {
   "cell_type": "markdown",
   "metadata": {},
   "source": [
    "##### from mitosheet import *; register_analysis(\"id-naezqirqvc\");\n",
    "    \n",
    "# Set formula of jahr\n",
    "df['jahr'] = SUBSTITUTE(df['jahr'],'X','0')\n",
    "\n",
    "# Changed jahr to dtype int\n",
    "df['jahr'] = to_int_series(df['jahr'])\n"
   ]
  },
  {
   "cell_type": "code",
   "execution_count": null,
   "metadata": {},
   "outputs": [],
   "source": [
    "from mitosheet import *\n",
    "\n",
    "register_analysis(\"id-naezqirqvc\")\n",
    "\n",
    "# Set formula of jahr\n",
    "df[\"jahr\"] = SUBSTITUTE(df[\"jahr\"], \"X\", \"0\")\n",
    "\n",
    "# Changed jahr to dtype int\n",
    "df[\"jahr\"] = to_int_series(df[\"jahr\"])"
   ]
  }
 ],
 "metadata": {
  "kernelspec": {
   "display_name": "Python 3 (ipykernel)",
   "language": "python",
   "name": "python3"
  },
  "language_info": {
   "codemirror_mode": {
    "name": "ipython",
    "version": 3
   },
   "file_extension": ".py",
   "mimetype": "text/x-python",
   "name": "python",
   "nbconvert_exporter": "python",
   "pygments_lexer": "ipython3",
   "version": "3.10.5"
  },
  "vscode": {
   "interpreter": {
    "hash": "4420fd90279ad56da5a46973760158866ace8a0579cb7b053b42130c0ae77cd7"
   }
  }
 },
 "nbformat": 4,
 "nbformat_minor": 4
}
