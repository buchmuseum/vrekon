{
 "cells": [
  {
   "cell_type": "code",
   "execution_count": 1,
   "metadata": {},
   "outputs": [],
   "source": [
    "import openpyxl\n",
    "import pandas as pd\n",
    "from natsort import index_natsorted\n",
    "import numpy as np\n",
    "import openpyxl\n",
    "from openpyxl.utils.dataframe import dataframe_to_rows"
   ]
  },
  {
   "cell_type": "code",
   "execution_count": 55,
   "metadata": {},
   "outputs": [],
   "source": [
    "# wenn match schon einmal gemacht wurde\n",
    "be = pd.read_excel(\"iii-merge-test-excel.xlsx\", sheet_name=\"III Drucke 1501-1560\", dtype={\"digi\":\"bool\"}, true_values=[\"WAHR\"], false_values=[\"FALSCH\"])\n",
    "\n",
    "# erster match\n",
    "# be = pd.read_excel(\"Thomschke_III_Drucke_1501-1560.xlsm\", sheet_name=\"III Drucke 1501-1560\", dtype=\"string\")\n",
    "iii = pd.read_csv(\"../abzug/iii.csv\", dtype=\"string\")"
   ]
  },
  {
   "cell_type": "code",
   "execution_count": 41,
   "metadata": {},
   "outputs": [
    {
     "data": {
      "text/plain": [
       "99"
      ]
     },
     "execution_count": 41,
     "metadata": {},
     "output_type": "execute_result"
    }
   ],
   "source": [
    "len(be.columns)"
   ]
  },
  {
   "cell_type": "markdown",
   "metadata": {},
   "source": [
    "# neuer Ansatz: merge"
   ]
  },
  {
   "cell_type": "code",
   "execution_count": 56,
   "metadata": {},
   "outputs": [],
   "source": [
    "df = be.merge(iii, how=\"outer\", left_on=[\"AKZ\", \"IDN\"], right_on=[\"akz\", \"idn\"])\n",
    "\n",
    "# idn, akz und signatur werden aus abzugs-listen über die BE-Daten kopiert: dabei entsteht kein Datenverlust, weil diese Spalten identisch sein müssen, denn mit ihnen wurden die Daten gemerged\n",
    "df.loc[df[\"IDN\"].isna(), \"IDN\"] = df.idn\n",
    "df.loc[df[\"AKZ\"].isna(), \"AKZ\"] = df.akz\n",
    "df.loc[df[\"Signatur\"].isna(), \"Signatur\"] = df.signatur_a\n",
    "\n",
    "# wenn der Datensatz in den Abzugs-Listen war, wird er mit True in der Spalte Digi gekennzeichnet, wenn nicht mit False; dabei bekommen auch Zeilen ein False, für die es noch keinen Datensatz gibt. Beim Durchgang im nächsten Monat wird das automatisch geändert, weil die dann neu angelegten Datensätze in der Abzugs-Liste erscheinen und damit auch hier eingefügt werden.\n",
    "df.loc[df[\"idn\"].notna(), \"digi\"] = True\n",
    "df.loc[df[\"idn\"].isna(), \"digi\"] = False\n",
    "df.fillna('', inplace=True)\n",
    "df = df.sort_values(by='Signatur', ascending=True, na_position='first', key=lambda X: np.argsort(index_natsorted(df[\"Signatur\"])))\n",
    "\n",
    "# die Spalten aus der Abzugs-Liste werden wieder entfernt, die Digi Spalte wird an den Anfang gesetzt\n",
    "spaltenliste = list(df.columns)[:-21]\n",
    "# spaltenliste.insert(0,\"digi\")\n",
    "# spaltenliste.insert(4, \"bbg\")\n",
    "# spaltenliste.insert(7, \"signatur_g\")\n",
    "\n",
    "df.to_excel(\"iii-merge-test.xlsx\", index=False, columns=spaltenliste)"
   ]
  },
  {
   "cell_type": "code",
   "execution_count": 50,
   "metadata": {},
   "outputs": [
    {
     "data": {
      "text/plain": [
       "Index(['digi', 'Lfd Nr.', 'AKZ', 'IDN', 'bbg_x', 'Link zum Portal', 'Signatur',\n",
       "       'signatur_g_x', 'Provenienzmerkmal', 'Material', 'Format',\n",
       "       'Öffnungswinkel', 'Einschränkungen', 'Glasplatte ', 'Verpackung',\n",
       "       'Verpackung austauschen ', 'Schadensklasse',\n",
       "       'notwendige Reparatur(en) vor der Digitalisierung, notwendige Reparatur(en) vor der Digitalisierung',\n",
       "       'Bemerkungen', 'Fragen/ Hinweise\\nan DBSM', 'Fragen an M. Steinberg',\n",
       "       'nicht\\nam Stand-ort', 'Größe ÜF\\n(BxH)', 'Breite\\n(nur Ausreißer)',\n",
       "       'Dicke\\n(>12 cm)', '12° Format\\n(<15 cm)', 'Einband-\\nart',\n",
       "       'Einband über-\\nformt (ganz od. teilweise)',\n",
       "       'Buch bereits restau-riert',\n",
       "       'hohler/\\nfester Rücken (mit Einlage/\\nVergoldung?)',\n",
       "       'Steh-\\nkanten\\n(bei Perg.)', 'Leder pudert ab/roter Zerfall (extrem)',\n",
       "       'Einband stark defor-miert', 'Be-schläge bes. auftra-gend',\n",
       "       'Buch-schließe steif', 'Buch-block Pa./Perg.', 'saures Füll-material',\n",
       "       'Register-marken', 'seitliche Heftung', 'Buch-block sehr wellig',\n",
       "       'Buch-block neigt zum \"Bauch\"', 'ge-schloss-ene Lagen', 'Falttafeln',\n",
       "       'Größe Buch+\\nFalttafeln (BxH)', 'Original-grafik',\n",
       "       'Kolorier-ung / Buch-malerei / Initialen / Rubri-kation',\n",
       "       'berühr-ungsfreie Digit.',\n",
       "       'Schrift weit bis in den Falz (Bund-steg in mm) Text-verlust',\n",
       "       'nicht digitali-sierbar wegen Bund-steg (vorraus-sichtlich)',\n",
       "       'max. Öffnungs-winkel', 'Digit. mit Begleit-ung',\n",
       "       'Rest.-Bericht einge-klebt', 'Blatt mit Notizen zum Buch eingeklebt ',\n",
       "       'Rest.\\nnot-wendig (ja/nein) (vor/nach der Digit.)',\n",
       "       'Rest.-\\nAufwand gesamt\\n(in Std.)', 'Rest.\\nerfolgt', 'Kassette',\n",
       "       'Schuber', 'Buch-schuh', 'Mappe ', 'Um-schlag', 'SB neu',\n",
       "       'Anmerkungen (allg.)', 'für Testphase\\nvorsehen',\n",
       "       'Schutzbehältnis empfohlen',\n",
       "       'Foto für Erheb. Rest. angefertigt (ab August)',\n",
       "       'feuchte-empfind-liches Leder',\n",
       "       'Material am Rücken/\\nEinband lose / eingeris-sen (auch Titelschild)',\n",
       "       'Narben spaltet sich ab', 'Gelenk(e) \\nan/durch-gebro-chen',\n",
       "       'Bünde gebro-chen (Anzahl)', 'Rücken lose/\\nhalb lose',\n",
       "       'Be-schläge locker', 'Buch\\nschließe fragil',\n",
       "       'Deckel spaltet sich / Fehlstelle im Deckel', 'Deckel gebro-chen',\n",
       "       'Deckel lose / halb lose', 'Kapital fragil/\\nlose',\n",
       "       'Rest.-Aufwand Einband\\n(in Std.)',\n",
       "       'Anmerkungen für die Restaurierung am Einband',\n",
       "       'Ver-schmutz-ung (Vorsatz / Ränder /\\nges. BB)', 'mikro-bieller Befall',\n",
       "       'Farb-schicht pudert', 'Buch-block / Seiten verblockt',\n",
       "       'erste / letzte Lage oder Seiten lose', '(halb-) lose Seiten im BB',\n",
       "       'Heftung zerstört', 'Risse / Fehl-stellen im Vorsatz',\n",
       "       'Risse im Text-bereich / an exponier-ter Stelle (z.B. Ecke)',\n",
       "       'Risse am Rand', 'Fehl-stellen im BB\\n(groß) ', 'Insekten-fraß (stark)',\n",
       "       'Falten / Knicke', 'saures /\\nbrüchiges Papier',\n",
       "       'Tinten-/ Farbfraß (akut)', 'Register-marken fragil',\n",
       "       'Klebe-\\nstreifen ablösen', 'Rest.-Aufwand Buchblock\\n(in Std.)',\n",
       "       'Anmerkungen für die Restaurierung am Buchblock'],\n",
       "      dtype='object')"
      ]
     },
     "execution_count": 50,
     "metadata": {},
     "output_type": "execute_result"
    }
   ],
   "source": [
    "df.columns[:-21]"
   ]
  },
  {
   "cell_type": "markdown",
   "metadata": {},
   "source": [
    "# Excel-Dateien mit openpyxl öffnen"
   ]
  },
  {
   "cell_type": "code",
   "execution_count": 57,
   "metadata": {},
   "outputs": [],
   "source": [
    "wb = openpyxl.load_workbook(\"iii-merge-test-excel.xlsx\")\n",
    "wb.remove(wb[\"III Drucke 1501-1560\"])\n",
    "ws = wb.create_sheet(\"III Drucke 1501-1560\", 0)\n",
    "df = df.astype(\"object\")\n",
    "for r in dataframe_to_rows(df[spaltenliste], index=False):\n",
    "    ws.append(r)\n",
    "ws.add_table(openpyxl.worksheet.table.Table(displayName=\"Basistabelle\", ref=ws.dimensions))\n",
    "wb.save(\"iii-merge-test-excel.xlsx\")"
   ]
  },
  {
   "cell_type": "markdown",
   "metadata": {},
   "source": [
    "# Anleitung zur Bearbeitung der zusammengefügten Listen\n",
    "\n",
    "Die Tabelle enthält ganz vorn die neue Spalte \"Digi\". Steht dort WAHR, wird das Werk digitalisiert, steht FALSCH, wird es nicht digitalisiert.\n",
    "\n",
    "Zunächst muss überprüft werden, ob Frau Thomschke Daten in eine Zeile erfasst hat, in der eigentlich angebundene Werke oder sonstige untergeordnete Werke stehen. Diese müssen dann in die Zeile des übergeordneten Satzes verschoben werden, z. B. Qd.\n",
    "\n",
    "Alle mit FALSCH markierten Zeilen, die angebundene Werke und keine Informationen von Frau Thomschke haben, können gelöscht werden.\n",
    "\n",
    "Alle mit FALSCH markierte Zeilen, die keine IDN und keine AKZ enthalten, aber eine Signatur, wurden von BE \"gefunden\" für diese Bände muss ein Datensatz angelegt werden. Wenn das passiert ist, wird die IDN und AKZ in die Tabelle kopiert.\n",
    "\n",
    "\n",
    "\n",
    "\n",
    "\n",
    "\n",
    "\n"
   ]
  }
 ],
 "metadata": {
  "kernelspec": {
   "display_name": "Python 3.10.7 ('vrekon-Woto_OI2-py3.10')",
   "language": "python",
   "name": "python3"
  },
  "language_info": {
   "codemirror_mode": {
    "name": "ipython",
    "version": 3
   },
   "file_extension": ".py",
   "mimetype": "text/x-python",
   "name": "python",
   "nbconvert_exporter": "python",
   "pygments_lexer": "ipython3",
   "version": "3.10.7"
  },
  "orig_nbformat": 4,
  "vscode": {
   "interpreter": {
    "hash": "8681589111d9c02aa990b2f7938729dca4977e00692f0df016f763aeb99b1c7c"
   }
  }
 },
 "nbformat": 4,
 "nbformat_minor": 2
}
