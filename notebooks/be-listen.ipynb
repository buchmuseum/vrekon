{
 "cells": [
  {
   "cell_type": "code",
   "execution_count": 4,
   "metadata": {},
   "outputs": [],
   "source": [
    "import openpyxl\n",
    "import pandas as pd\n",
    "from natsort import index_natsorted\n",
    "import numpy as np"
   ]
  },
  {
   "cell_type": "code",
   "execution_count": 5,
   "metadata": {},
   "outputs": [
    {
     "name": "stderr",
     "output_type": "stream",
     "text": [
      "/home/wendler/.cache/pypoetry/virtualenvs/vrekon-e7A2tzLD-py3.10/lib/python3.10/site-packages/openpyxl/worksheet/_reader.py:312: UserWarning: Data Validation extension is not supported and will be removed\n",
      "  warn(msg)\n"
     ]
    }
   ],
   "source": [
    "be = pd.read_excel(\"../raw/II_Inkunabeln+_test_Wendler.xlsx\", sheet_name=\"II_Inkunabeln+\", dtype=\"string\")\n",
    "ii = pd.read_csv(\"../abzug/ii.csv\", dtype=\"string\")"
   ]
  },
  {
   "cell_type": "markdown",
   "metadata": {},
   "source": [
    "# Versuch nur eine Spalte mit ja/nein Markierung einzubringen\n",
    "\n",
    "Problem: die neuen IDNs kommen so nicht mit. Nützt also nichts."
   ]
  },
  {
   "cell_type": "code",
   "execution_count": 5,
   "metadata": {},
   "outputs": [
    {
     "data": {
      "text/plain": [
       "True"
      ]
     },
     "execution_count": 5,
     "metadata": {},
     "output_type": "execute_result"
    }
   ],
   "source": [
    "# Merge enthält alle Sätze, die in meiner Liste und in der BE-Liste stehen\n",
    "\"2\" in be.merge(ii, how=\"right\", left_on=[\"AKZ\", \"IDN\"], right_on=[\"akz\", \"idn\"])[\"Lfd Nr.\"].values"
   ]
  },
  {
   "cell_type": "code",
   "execution_count": 12,
   "metadata": {},
   "outputs": [],
   "source": [
    "merge_numbers = be.merge(ii, how=\"right\", left_on=[\"AKZ\", \"IDN\"], right_on=[\"akz\", \"idn\"])[\"Lfd Nr.\"].values\n",
    "def check_digi(nr: str):\n",
    "    return nr in merge_numbers"
   ]
  },
  {
   "cell_type": "code",
   "execution_count": 13,
   "metadata": {},
   "outputs": [],
   "source": [
    "gesamt = pd.DataFrame(be[\"Lfd Nr.\"])"
   ]
  },
  {
   "cell_type": "code",
   "execution_count": 14,
   "metadata": {},
   "outputs": [],
   "source": [
    "gesamt[\"digi\"] = gesamt[\"Lfd Nr.\"].apply(check_digi)"
   ]
  },
  {
   "cell_type": "code",
   "execution_count": 15,
   "metadata": {},
   "outputs": [
    {
     "data": {
      "text/html": [
       "<div>\n",
       "<style scoped>\n",
       "    .dataframe tbody tr th:only-of-type {\n",
       "        vertical-align: middle;\n",
       "    }\n",
       "\n",
       "    .dataframe tbody tr th {\n",
       "        vertical-align: top;\n",
       "    }\n",
       "\n",
       "    .dataframe thead th {\n",
       "        text-align: right;\n",
       "    }\n",
       "</style>\n",
       "<table border=\"1\" class=\"dataframe\">\n",
       "  <thead>\n",
       "    <tr style=\"text-align: right;\">\n",
       "      <th></th>\n",
       "      <th>Lfd Nr.</th>\n",
       "      <th>digi</th>\n",
       "    </tr>\n",
       "  </thead>\n",
       "  <tbody>\n",
       "    <tr>\n",
       "      <th>0</th>\n",
       "      <td>1</td>\n",
       "      <td>True</td>\n",
       "    </tr>\n",
       "    <tr>\n",
       "      <th>1</th>\n",
       "      <td>2</td>\n",
       "      <td>True</td>\n",
       "    </tr>\n",
       "    <tr>\n",
       "      <th>2</th>\n",
       "      <td>3</td>\n",
       "      <td>True</td>\n",
       "    </tr>\n",
       "    <tr>\n",
       "      <th>3</th>\n",
       "      <td>4</td>\n",
       "      <td>True</td>\n",
       "    </tr>\n",
       "    <tr>\n",
       "      <th>4</th>\n",
       "      <td>5</td>\n",
       "      <td>True</td>\n",
       "    </tr>\n",
       "    <tr>\n",
       "      <th>...</th>\n",
       "      <td>...</td>\n",
       "      <td>...</td>\n",
       "    </tr>\n",
       "    <tr>\n",
       "      <th>731</th>\n",
       "      <td>707</td>\n",
       "      <td>False</td>\n",
       "    </tr>\n",
       "    <tr>\n",
       "      <th>732</th>\n",
       "      <td>708</td>\n",
       "      <td>False</td>\n",
       "    </tr>\n",
       "    <tr>\n",
       "      <th>733</th>\n",
       "      <td>709</td>\n",
       "      <td>False</td>\n",
       "    </tr>\n",
       "    <tr>\n",
       "      <th>734</th>\n",
       "      <td>710</td>\n",
       "      <td>False</td>\n",
       "    </tr>\n",
       "    <tr>\n",
       "      <th>735</th>\n",
       "      <td>&lt;NA&gt;</td>\n",
       "      <td>True</td>\n",
       "    </tr>\n",
       "  </tbody>\n",
       "</table>\n",
       "<p>736 rows × 2 columns</p>\n",
       "</div>"
      ],
      "text/plain": [
       "    Lfd Nr.   digi\n",
       "0         1   True\n",
       "1         2   True\n",
       "2         3   True\n",
       "3         4   True\n",
       "4         5   True\n",
       "..      ...    ...\n",
       "731     707  False\n",
       "732     708  False\n",
       "733     709  False\n",
       "734     710  False\n",
       "735    <NA>   True\n",
       "\n",
       "[736 rows x 2 columns]"
      ]
     },
     "execution_count": 15,
     "metadata": {},
     "output_type": "execute_result"
    }
   ],
   "source": [
    "# gesamt enthält in spalte digi info, ob datensatz teil des projektes oder nicht.\n",
    "gesamt"
   ]
  },
  {
   "cell_type": "markdown",
   "metadata": {},
   "source": [
    "# neuer Ansatz: merge"
   ]
  },
  {
   "cell_type": "code",
   "execution_count": 6,
   "metadata": {},
   "outputs": [],
   "source": [
    "df = be.merge(ii, how=\"outer\", left_on=[\"AKZ\", \"IDN\"], right_on=[\"akz\", \"idn\"])\n",
    "\n",
    "# idn, akz und signatur werden aus abzugs-listen über die BE-Daten kopiert: dabei entsteht kein Datenverlust, weil diese Spalten identisch sein müssen, denn mit ihnen wurden die Daten gemerged\n",
    "df.loc[df[\"IDN\"].isna(), \"IDN\"] = df.idn\n",
    "df.loc[df[\"AKZ\"].isna(), \"AKZ\"] = df.akz\n",
    "df.loc[df[\"Signatur\"].isna(), \"Signatur\"] = df.signatur_a\n",
    "\n",
    "# wenn der Datensatz in den Abzugs-Listen war, wird er mit True in der Spalte Digi gekennzeichnet, wenn nicht mit False; dabei bekommen auch Zeilen ein False, für die es noch keinen Datensatz gibt. Beim Durchgang im nächsten Monat wird das automatisch geändert, weil die dann neu angelegten Datensätze in der Abzugs-Liste erscheinen und damit auch hier eingefügt werden.\n",
    "df.loc[df[\"idn\"].notna(), \"digi\"] = True\n",
    "df.loc[df[\"idn\"].isna(), \"digi\"] = False\n",
    "df.fillna('', inplace=True)\n",
    "df = df.sort_values(by='Signatur', ascending=True, na_position='first', key=lambda X: np.argsort(index_natsorted(df[\"Signatur\"])))\n",
    "\n",
    "# die Spalten aus der Abzugs-Liste werden wieder entfernt, die Digi Spalte wird an den Anfang gesetzt\n",
    "spaltenliste = list(df.columns)[:-22]\n",
    "spaltenliste.insert(0,\"digi\")\n",
    "\n",
    "df.to_excel(\"ii-merge-test.xlsx\", index=False, columns=spaltenliste)"
   ]
  },
  {
   "cell_type": "markdown",
   "metadata": {},
   "source": [
    "# Anleitung zur Bearbeitung der zusammengefügten Listen\n",
    "\n",
    "Die Tabelle enthält ganz vorn die neue Spalte \"Digi\". Steht dort WAHR, wird das Werk digitalisiert, steht FALSCH, wird es nicht digitalisiert.\n",
    "\n",
    "Zunächst muss überprüft werden, ob Frau Thomschke Daten in eine Zeile erfasst hat, in der eigentlich angebundene Werke oder sonstige untergeordnete Werke stehen. Diese müssen dann in die Zeile des übergeordneten Satzes verschoben werden, z. B. Qd.\n",
    "\n",
    "Alle mit FALSCH markierten Zeilen, die angebundene Werke und keine Informationen von Frau Thomschke haben, können gelöscht werden.\n",
    "\n",
    "Alle mit FALSCH markierte Zeilen, die keine IDN und keine AKZ enthalten, aber eine Signatur, wurden von BE \"gefunden\" für diese Bände muss ein Datensatz angelegt werden. Wenn das passiert ist, wird die IDN und AKZ in die Tabelle kopiert.\n",
    "\n",
    "\n",
    "\n",
    "\n",
    "\n",
    "\n",
    "\n"
   ]
  }
 ],
 "metadata": {
  "kernelspec": {
   "display_name": "Python 3.10.7 ('vrekon-e7A2tzLD-py3.10')",
   "language": "python",
   "name": "python3"
  },
  "language_info": {
   "codemirror_mode": {
    "name": "ipython",
    "version": 3
   },
   "file_extension": ".py",
   "mimetype": "text/x-python",
   "name": "python",
   "nbconvert_exporter": "python",
   "pygments_lexer": "ipython3",
   "version": "3.10.7"
  },
  "orig_nbformat": 4,
  "vscode": {
   "interpreter": {
    "hash": "43b4b565913fb443464366ca81a04d75fdbcf9de4a21bbb831c8a0b1035f58ef"
   }
  }
 },
 "nbformat": 4,
 "nbformat_minor": 2
}
