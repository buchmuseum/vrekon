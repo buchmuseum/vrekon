{
 "cells": [
  {
   "cell_type": "markdown",
   "metadata": {},
   "source": [
    "# Migration der BE-Listen"
   ]
  },
  {
   "cell_type": "code",
   "execution_count": 21,
   "metadata": {},
   "outputs": [],
   "source": [
    "import openpyxl\n",
    "import pandas as pd\n",
    "from natsort import index_natsorted\n",
    "import numpy as np\n",
    "import openpyxl\n",
    "from openpyxl.utils.dataframe import dataframe_to_rows\n",
    "from openpyxl.worksheet.table import Table, TableStyleInfo\n",
    "import glob"
   ]
  },
  {
   "cell_type": "code",
   "execution_count": 13,
   "metadata": {},
   "outputs": [],
   "source": [
    "# Einbandart Y\n",
    "# max Öffnungswinkel AW\n",
    "# dig mit Begleitung AY\n",
    "# Testphase BM\n",
    "\n",
    "def kommentare(bestand):\n",
    "    wb = openpyxl.load_workbook(f\"thomschke/be-{bestand}.xlsm\")\n",
    "    spalten_liste = (\"Y\", \"AW\", \"AY\", \"BM\")\n",
    "    for spalte in spalten_liste:\n",
    "        for cell in wb[\"Basis\"][spalte]:\n",
    "            if cell.comment:\n",
    "                wb[\"Basis\"].cell(row=cell.row, column=cell.column+1, value=cell.comment.text.split(\":\", maxsplit=1)[1])\n",
    "    \n",
    "    wb.save(f\"thomschke/be-{bestand}-kommentare.xlsx\")"
   ]
  },
  {
   "cell_type": "code",
   "execution_count": 24,
   "metadata": {},
   "outputs": [],
   "source": [
    "def mergen(bestand):\n",
    "    be = pd.read_excel(f\"thomschke/be-{bestand}-kommentare.xlsx\", sheet_name=\"Basis\", dtype=\"string\")\n",
    "    abzug = pd.read_csv(f\"../abzug/{bestand}.csv\", dtype=\"string\")\n",
    "\n",
    "    df = be.merge(abzug, how=\"outer\", left_on=[\"AKZ\", \"IDN\"], right_on=[\"akz\", \"idn\"])\n",
    "\n",
    "    # idn, akz und signatur werden aus abzugs-listen über die BE-Daten kopiert: dabei entsteht kein Datenverlust, weil diese Spalten identisch sein müssen, denn mit ihnen wurden die Daten gemerged\n",
    "    df.loc[df[\"IDN\"].isna(), \"IDN\"] = df.idn\n",
    "    df.loc[df[\"AKZ\"].isna(), \"AKZ\"] = df.akz\n",
    "    df.loc[df[\"Signatur\"].isna(), \"Signatur\"] = df.signatur_a\n",
    "\n",
    "    # wenn der Datensatz in den Abzugs-Listen war, wird er mit True in der Spalte Digi gekennzeichnet, wenn nicht mit False; dabei bekommen auch Zeilen ein False, für die es noch keinen Datensatz gibt. Beim Durchgang im nächsten Monat wird das automatisch geändert, weil die dann neu angelegten Datensätze in der Abzugs-Liste erscheinen und damit auch hier eingefügt werden.\n",
    "    df.loc[df[\"idn\"].notna(), \"digi\"] = True\n",
    "    df.loc[df[\"idn\"].isna(), \"digi\"] = False\n",
    "    df.fillna('', inplace=True)\n",
    "    df = df.sort_values(by='Signatur', ascending=True, na_position='first', key=lambda X: np.argsort(index_natsorted(df[\"Signatur\"])))\n",
    "\n",
    "    # die Spalten aus der Abzugs-Liste werden wieder entfernt, die Digi Spalte wird an den Anfang gesetzt\n",
    "    spaltenliste = list(df.columns)[:-22]\n",
    "    spaltenliste.insert(0,\"digi\")\n",
    "    spaltenliste.insert(4, \"bbg\")\n",
    "    spaltenliste.insert(7, \"signatur_g\")\n",
    "\n",
    "    wb = openpyxl.load_workbook(f\"thomschke/be-{bestand}-kommentare.xlsx\")\n",
    "    wb.remove(wb[\"Basis\"])\n",
    "    ws = wb.create_sheet(\"Basis\", 0)\n",
    "    df = df.astype(\"object\")\n",
    "    for r in dataframe_to_rows(df[spaltenliste], index=False):\n",
    "        ws.append(r)\n",
    "    tab = Table(displayName=\"Basistabelle\", ref=ws.dimensions)\n",
    "    tab.tableStyleInfo = TableStyleInfo(name=\"Hell1\", showFirstColumn=False,\n",
    "                       showLastColumn=False, showRowStripes=True, showColumnStripes=False)\n",
    "    ws.add_table(tab)\n",
    "    wb.save(f\"listen_fin/{bestand}.xlsx\")"
   ]
  },
  {
   "cell_type": "code",
   "execution_count": 25,
   "metadata": {},
   "outputs": [],
   "source": [
    "mergen(\"ii\")"
   ]
  },
  {
   "cell_type": "code",
   "execution_count": 26,
   "metadata": {},
   "outputs": [],
   "source": [
    "bestaende = (\"ii\", \"böink\", \"böm\", \"schreibmeister\")\n",
    "\n",
    "for bestand in bestaende:\n",
    "    mergen(bestand)"
   ]
  }
 ],
 "metadata": {
  "kernelspec": {
   "display_name": "Python 3.10.7 ('vrekon-Woto_OI2-py3.10')",
   "language": "python",
   "name": "python3"
  },
  "language_info": {
   "codemirror_mode": {
    "name": "ipython",
    "version": 3
   },
   "file_extension": ".py",
   "mimetype": "text/x-python",
   "name": "python",
   "nbconvert_exporter": "python",
   "pygments_lexer": "ipython3",
   "version": "3.10.7"
  },
  "orig_nbformat": 4,
  "vscode": {
   "interpreter": {
    "hash": "8681589111d9c02aa990b2f7938729dca4977e00692f0df016f763aeb99b1c7c"
   }
  }
 },
 "nbformat": 4,
 "nbformat_minor": 2
}
