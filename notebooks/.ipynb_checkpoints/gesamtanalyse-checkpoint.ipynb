{
 "cells": [
  {
   "cell_type": "code",
   "execution_count": 1,
   "metadata": {},
   "outputs": [],
   "source": [
    "import pandas as pd\n",
    "import mitosheet\n",
    "from natsort import index_natsorted\n",
    "import numpy as np"
   ]
  },
  {
   "cell_type": "markdown",
   "metadata": {},
   "source": [
    "__ACHTUNG__: dieses Notebook dient nur dem Testen der Skripte. Es wird nicht beim Ausführen der Pipeline mit `dvc repro` ausgeführt. Alle Änderungen müssen in `skripte/abzug.py` eingefügt werden."
   ]
  },
  {
   "cell_type": "markdown",
   "metadata": {},
   "source": [
    "# Bö Ink\n",
    "\n",
    "Alle Datensätze, ausgefiltert:\n",
    "\n",
    "- Sätze mit Verknüpfung in 4105 (Verknüpfung Qd)\n",
    "- Sätze mit Verknüpfung in 4241 (Beziehung zu größerer Einheit) \n",
    "- Sätze mit Verknüpfung in 4256 (Reproduktion)\n",
    "- Sätze mit Verknüpfung in 4243 (Parallelausgabe)\n",
    "- \"angeb\" in Signatur\n",
    "- Satzart \"Aaq\"\n",
    "- Standort DA"
   ]
  },
  {
   "cell_type": "code",
   "execution_count": null,
   "metadata": {},
   "outputs": [],
   "source": [
    "df = pd.read_csv(\"../abzug/böink.csv\")\n",
    "\n",
    "# Filtered f4105_9\n",
    "df = df[df[\"f4105_9\"].isna()]\n",
    "\n",
    "# Filtered f4241\n",
    "df = df[df[\"f4241\"].isna()]\n",
    "\n",
    "# Filtered f4256\n",
    "df = df[df[\"f4256\"].isna()]\n",
    "\n",
    "# Filtered f4243\n",
    "df = df[df[\"f4243\"].isna()]\n",
    "\n",
    "# Filtered signatur_g\n",
    "df = df[~df[\"signatur_g\"].str.contains(\"angeb\", na=False, case=False)]\n",
    "\n",
    "# Filtered signatur_a\n",
    "df = df[~df[\"signatur_a\"].str.contains(\"angeb\", na=False, case=False)]\n",
    "\n",
    "# Filtered bbg\n",
    "df = df[~df[\"bbg\"].str.contains(\"Aaq\", na=False)]\n",
    "\n",
    "# Filtered standort\n",
    "df = df[df[\"standort\"] != \"DBSM/DA\"]\n",
    "\n",
    "df = df.sort_values(by='signatur_a', ascending=True, na_position='first', key=lambda X: np.argsort(index_natsorted(df[\"signatur_a\"])))\n",
    "\n",
    "# df.to_csv(\"../dat/böink-filtered.csv\", index=False)\n",
    "df"
   ]
  },
  {
   "cell_type": "markdown",
   "metadata": {},
   "source": [
    "# II (Klemm-Inkunabeln)\n",
    "\n"
   ]
  },
  {
   "cell_type": "markdown",
   "metadata": {},
   "source": [
    "Alle Datensätze, ausgefiltert:\n",
    "\n",
    "- Sätze mit Verknüpfung in 4105 (Verknüpfung Qd)\n",
    "- Sätze mit Verknüpfung in 4241 (Beziehung zu größerer Einheit) \n",
    "- Sätze mit Verknüpfung in 4256 (Reproduktion)\n",
    "- Sätze mit Verknüpfung in 4243 (Parallelausgabe)\n",
    "- \"angeb\" in Signatur\n",
    "- Standort DA"
   ]
  },
  {
   "cell_type": "code",
   "execution_count": null,
   "metadata": {},
   "outputs": [],
   "source": [
    "df = pd.read_csv(\"../abzug/ii.csv\")\n",
    "\n",
    "# Filtered f4256\n",
    "df = df[df[\"f4256\"].isna()]\n",
    "\n",
    "# Filtered f4105_9\n",
    "df = df[df[\"f4105_9\"].isna()]\n",
    "\n",
    "# Filtered f4241\n",
    "df = df[df[\"f4241\"].isna()]\n",
    "\n",
    "# Filtered f4243\n",
    "df = df[df[\"f4243\"].isna()]\n",
    "\n",
    "# Filtered signatur_g\n",
    "df = df[~df[\"signatur_g\"].str.contains(\"angeb\", na=False, case=False)]\n",
    "\n",
    "# Filtered signatur_a\n",
    "df = df[~df[\"signatur_a\"].str.contains(\"angeb\", na=False, case=False)]\n",
    "\n",
    "# Filtered standort\n",
    "df = df[df[\"standort\"] != \"DBSM/DA\"]\n",
    "\n",
    "df = df.sort_values(by='signatur_a', ascending=True, na_position='first', key=lambda X: np.argsort(index_natsorted(df[\"signatur_a\"])))\n",
    "\n",
    "#df.to_csv(\"../dat/ii-filtered.csv\", index=False)\n",
    "df"
   ]
  },
  {
   "cell_type": "code",
   "execution_count": 3,
   "metadata": {},
   "outputs": [
    {
     "data": {
      "application/vnd.jupyter.widget-view+json": {
       "model_id": "949c63bb6b064ef494a773d12be44740",
       "version_major": 2,
       "version_minor": 0
      },
      "text/plain": [
       "MitoWidget(analysis_data_json='{\"analysisName\": \"id-cexrkravrl\", \"analysisToReplay\": null, \"code\": [], \"stepSu…"
      ]
     },
     "metadata": {},
     "output_type": "display_data"
    }
   ],
   "source": [
    "import mitosheet\n",
    "mitosheet.sheet(df, analysis_to_replay=\"id-cexrkravrl\")"
   ]
  },
  {
   "cell_type": "code",
   "execution_count": null,
   "metadata": {},
   "outputs": [],
   "source": []
  },
  {
   "cell_type": "code",
   "execution_count": 3,
   "metadata": {},
   "outputs": [
    {
     "data": {
      "application/vnd.jupyter.widget-view+json": {
       "model_id": "d98900c1e439403e9fc3eae35eb87e50",
       "version_major": 2,
       "version_minor": 0
      },
      "text/plain": [
       "MitoWidget(analysis_data_json='{\"analysisName\": \"id-nyqtqhyiyd\", \"analysisToReplay\": null, \"code\": [], \"stepSu…"
      ]
     },
     "metadata": {},
     "output_type": "display_data"
    }
   ],
   "source": [
    "import mitosheet\n",
    "mitosheet.sheet(df, analysis_to_replay=\"id-nyqtqhyiyd\")"
   ]
  },
  {
   "cell_type": "code",
   "execution_count": null,
   "metadata": {},
   "outputs": [],
   "source": []
  },
  {
   "cell_type": "markdown",
   "metadata": {},
   "source": [
    "# III (1501-1560)\n",
    "\n",
    "alle, hier ausgefilter:\n",
    "\n",
    "Alle Datensätze, ausgefiltert:\n",
    "\n",
    "- Sätze mit Verknüpfung in 4105 (Verknüpfung Qd)\n",
    "- Sätze mit Verknüpfung in 4241 (Beziehung zu größerer Einheit) \n",
    "- Sätze mit Verknüpfung in 4256 (Reproduktion)\n",
    "- Sätze mit Verknüpfung in 4243 (Parallelausgabe)\n",
    "- \"angeb\" in Signatur\n",
    "- Standort DA\n",
    "- Satzart Hal, Aaq\n",
    "- Signatur II 30,13"
   ]
  },
  {
   "cell_type": "code",
   "execution_count": null,
   "metadata": {},
   "outputs": [],
   "source": [
    "df = pd.read_csv(\"../abzug/iii.csv\")\n",
    "\n",
    "# Filtered signatur_g\n",
    "df = df[~df[\"signatur_g\"].str.contains(\"angeb\", na=False, case=False)]\n",
    "\n",
    "# Filtered signatur_a\n",
    "df = df[~df[\"signatur_a\"].str.contains(\"angeb\", na=False, case=False)]\n",
    "\n",
    "# Filtered f4243\n",
    "df = df[df[\"f4243\"].isna()]\n",
    "\n",
    "# Filtered f4256\n",
    "df = df[df[\"f4256\"].isna()]\n",
    "\n",
    "# Filtered f4241\n",
    "df = df[df[\"f4241\"].isna()]\n",
    "\n",
    "# Filtered f4105_9\n",
    "df = df[df[\"f4105_9\"].isna()]\n",
    "\n",
    "# Filtered standort\n",
    "df = df[df[\"standort\"] != \"DBSM/DA\"]\n",
    "\n",
    "# Filtered bbg\n",
    "df = df[df[\"bbg\"] != \"Hal\"]\n",
    "\n",
    "# Filtered bbg\n",
    "df = df[~df[\"bbg\"].str.contains(\"Aaq\", na=False)]\n",
    "\n",
    "# Filtered signatur_g\n",
    "df = df[~df[\"signatur_g\"].str.contains(\"II 30,13\", na=False)]\n",
    "\n",
    "df = df.sort_values(by='signatur_a', ascending=True, na_position='first', key=lambda X: np.argsort(index_natsorted(df[\"signatur_a\"])))\n",
    "\n",
    "#df.to_csv(\"../dat/iii-filtered.csv\", index=False)\n",
    "df"
   ]
  },
  {
   "cell_type": "markdown",
   "metadata": {},
   "source": [
    "# IV\n",
    "\n",
    "alle bis einschließlich EJ 1785, hier ausgefiltert:\n",
    "\n",
    "- Sätze mit Verknüpfung in 4105 (Verknüpfung Qd)\n",
    "- Sätze mit Verknüpfung in 4241 (Beziehung zu größerer Einheit) \n",
    "- Sätze mit Verknüpfung in 4256 (Reproduktion)\n",
    "- Sätze mit Verknüpfung in 4243 (Parallelausgabe)\n",
    "- \"angeb\" in Signatur\n",
    "- Standort DA\n",
    "- Zedler\n",
    "\n",
    "IDN manuell ausgesondert 1002995671 inkl. angehängte Werke\n",
    "Schreibmeisterbuch 1001523539 raus und in Sonderliste"
   ]
  },
  {
   "cell_type": "code",
   "execution_count": null,
   "metadata": {},
   "outputs": [],
   "source": [
    "df = pd.read_csv(\"../abzug/iv.csv\")\n",
    "\n",
    "# Filtered signatur_g\n",
    "df = df[~df[\"signatur_g\"].str.contains(\"angeb\", na=False, case=False)]\n",
    "\n",
    "# Filtered signatur_a\n",
    "df = df[~df[\"signatur_a\"].str.contains(\"angeb\", na=False, case=False)]\n",
    "\n",
    "# Filtered f4243\n",
    "df = df[df[\"f4243\"].isna()]\n",
    "\n",
    "# Filtered f4256\n",
    "df = df[df[\"f4256\"].isna()]\n",
    "\n",
    "# Filtered f4241\n",
    "df = df[df[\"f4241\"].isna()]\n",
    "\n",
    "# Filtered f4105_9\n",
    "df = df[df[\"f4105_9\"].isna()]\n",
    "\n",
    "# Filtered jahr\n",
    "df = df[df[\"jahr\"] <= 1785]\n",
    "\n",
    "# Filtered standort\n",
    "df = df[df[\"standort\"] != \"DBSM/DA\"]\n",
    "\n",
    "# Filtered signatur_g\n",
    "df = df[~df[\"signatur_a\"].str.contains(\"IV 205, 76\", na=False)]\n",
    "\n",
    "# Filtered signatur_a\n",
    "df = df[~df[\"signatur_a\"].str.contains(\"IV 205,76\", na=False)]\n",
    "\n",
    "# Filtered signatur_g\n",
    "df = df[~df[\"signatur_a\"].str.contains(\"IV 114, 15\", na=False)]\n",
    "\n",
    "# Filtered signatur_g\n",
    "df = df[~df[\"signatur_a\"].str.contains(\"IV 114, 13a\", na=False)]\n",
    "\n",
    "df = df.sort_values(by='signatur_a', ascending=True, na_position='first', key=lambda X: np.argsort(index_natsorted(df[\"signatur_a\"])))\n",
    "\n",
    "#df.to_csv(\"../dat/iv-filtered.csv\", index=False)\n",
    "df"
   ]
  },
  {
   "cell_type": "code",
   "execution_count": null,
   "metadata": {},
   "outputs": [],
   "source": []
  },
  {
   "cell_type": "markdown",
   "metadata": {},
   "source": [
    "# Bö M\n",
    "\n",
    "alle, hier ausgefilter:\n",
    "\n",
    "Alle Datensätze, ausgefiltert:\n",
    "\n",
    "- Sätze mit Verknüpfung in 4105 (Verknüpfung Qd)\n",
    "- Sätze mit Verknüpfung in 4241 (Beziehung zu größerer Einheit) \n",
    "- Sätze mit Verknüpfung in 4256 (Reproduktion)\n",
    "- Sätze mit Verknüpfung in 4243 (Parallelausgabe)\n",
    "- \"angeb\" in Signatur\n",
    "- Standort DA"
   ]
  },
  {
   "cell_type": "code",
   "execution_count": 6,
   "metadata": {},
   "outputs": [],
   "source": [
    "df = pd.read_csv(\"../abzug/böm.csv\")\n",
    "\n",
    "# Filtered signatur_g\n",
    "df = df[~df[\"signatur_g\"].str.contains(\"angeb\", na=False)]\n",
    "\n",
    "# Filtered signatur_a\n",
    "df = df[~df[\"signatur_a\"].str.contains(\"angeb\", na=False)]\n",
    "\n",
    "# Filtered f4243\n",
    "df = df[df[\"f4243\"].isna()]\n",
    "\n",
    "# Filtered f4256\n",
    "df = df[df[\"f4256\"].isna()]\n",
    "\n",
    "# Filtered f4241\n",
    "df = df[df[\"f4241\"].isna()]\n",
    "\n",
    "# Filtered f4105_9\n",
    "df = df[df[\"f4105_9\"].isna()]\n",
    "\n",
    "# Filtered standort\n",
    "df = df[df[\"standort\"] != \"DBSM/DA\"]\n",
    "\n",
    "# Filtered bbg\n",
    "df = df[df[\"bbg\"] != \"Hal\"]\n",
    "\n",
    "# Filtered bbg\n",
    "df = df[df[\"bbg\"] != \"Hfl\"]\n",
    "\n",
    "# Filtered bbg\n",
    "df = df[df[\"bbg\"] != \"Pa\"]\n",
    "\n",
    "df = df.sort_values(by='signatur_a', ascending=True, na_position='first', key=lambda X: np.argsort(index_natsorted(df[\"signatur_a\"])))\n",
    "\n",
    "#df.to_csv(\"../dat/böm_filtered.csv\", index=False)\n",
    "df"
   ]
  },
  {
   "cell_type": "markdown",
   "metadata": {},
   "source": [
    "# Abgleich mit den BE-Excel-Listen"
   ]
  },
  {
   "cell_type": "code",
   "execution_count": 3,
   "metadata": {},
   "outputs": [],
   "source": [
    "excel = pd.read_excel(\n",
    "    \"../raw/II_Inkunabeln+_test_Wendler.xlsm\", sheet_name=\"II_Inkunabeln+\", dtype={\"IDN\": str}\n",
    ")\n",
    "excel.rename({\"AKZ\": \"akz\", \"IDN\": \"idn\"}, axis=\"columns\", inplace=True)\n",
    "df['digitalisieren'] = \"Ja\"\n",
    "df_tmp = df.drop(['f4105_g', 'f4243', 'stuecktitel', 'ausleihcode', 'f4801_a', 'f4801_k', 'exemplar', 'f4241', 'titel', 'f4105_9', 'sig_komm', 'f4256', 'einrichtung'], axis=1)\n",
    "df3 = excel.merge(df_tmp, left_on=['akz', 'idn'], right_on=['akz', 'idn'], how='outer', suffixes=['_excel', '_df'])\n",
    "df3 = df3.sort_values(by='Signatur', ascending=True, na_position='first', key=lambda X: np.argsort(index_natsorted(df3[\"Signatur\"])))\n",
    "df3.to_excel(\"II-mit-nachweis-test.xlsx\", index=False)\n",
    "\n",
    "# mitosheet.sheet(excel, df, analysis_to_replay=\"id-hcqyujyuel\")"
   ]
  },
  {
   "cell_type": "code",
   "execution_count": null,
   "metadata": {},
   "outputs": [],
   "source": [
    "df"
   ]
  },
  {
   "cell_type": "code",
   "execution_count": 7,
   "metadata": {},
   "outputs": [
    {
     "data": {
      "application/vnd.jupyter.widget-view+json": {
       "model_id": "7940efc12eaf4ce6b676249ca2fd0486",
       "version_major": 2,
       "version_minor": 0
      },
      "text/plain": [
       "MitoWidget(analysis_data_json='{\"analysisName\": \"id-iwpzcrrhny\", \"analysisToReplay\": null, \"code\": [], \"stepSu…"
      ]
     },
     "metadata": {},
     "output_type": "display_data"
    }
   ],
   "source": [
    "import mitosheet\n",
    "mitosheet.sheet(df, analysis_to_replay=\"id-iwpzcrrhny\")"
   ]
  },
  {
   "cell_type": "code",
   "execution_count": null,
   "metadata": {},
   "outputs": [],
   "source": []
  },
  {
   "cell_type": "code",
   "execution_count": 5,
   "metadata": {},
   "outputs": [
    {
     "data": {
      "application/vnd.jupyter.widget-view+json": {
       "model_id": "00436337116c406d9f041fa0f1e2d99e",
       "version_major": 2,
       "version_minor": 0
      },
      "text/plain": [
       "MitoWidget(analysis_data_json='{\"analysisName\": \"id-eeayhypuan\", \"analysisToReplay\": null, \"code\": [], \"stepSu…"
      ]
     },
     "metadata": {},
     "output_type": "display_data"
    }
   ],
   "source": [
    "import mitosheet\n",
    "mitosheet.sheet(excel, analysis_to_replay=\"id-eeayhypuan\")"
   ]
  },
  {
   "cell_type": "code",
   "execution_count": null,
   "metadata": {},
   "outputs": [],
   "source": []
  },
  {
   "cell_type": "code",
   "execution_count": 11,
   "metadata": {},
   "outputs": [
    {
     "data": {
      "application/vnd.jupyter.widget-view+json": {
       "model_id": "03dfc6f3bbc4406580999dd767b07b2f",
       "version_major": 2,
       "version_minor": 0
      },
      "text/plain": [
       "MitoWidget(analysis_data_json='{\"analysisName\": \"id-tlkyptepww\", \"analysisToReplay\": null, \"code\": [], \"stepSu…"
      ]
     },
     "metadata": {},
     "output_type": "display_data"
    }
   ],
   "source": [
    "import mitosheet\n",
    "mitosheet.sheet(excel, analysis_to_replay=\"id-tlkyptepww\")"
   ]
  },
  {
   "cell_type": "code",
   "execution_count": null,
   "metadata": {},
   "outputs": [],
   "source": []
  },
  {
   "cell_type": "markdown",
   "metadata": {},
   "source": [
    "# Aal-Sätze filtern"
   ]
  },
  {
   "cell_type": "code",
   "execution_count": null,
   "metadata": {},
   "outputs": [],
   "source": [
    "df = pd.read_csv(\"../raw/Aal-4201.csv\")\n",
    "df"
   ]
  },
  {
   "cell_type": "code",
   "execution_count": 14,
   "metadata": {},
   "outputs": [
    {
     "data": {
      "application/vnd.jupyter.widget-view+json": {
       "model_id": "350ce8c1e4d143b4a2104c6e532d6eef",
       "version_major": 2,
       "version_minor": 0
      },
      "text/plain": [
       "MitoWidget(analysis_data_json='{\"analysisName\": \"id-naezqirqvc\", \"analysisToReplay\": null, \"code\": [], \"stepSu…"
      ]
     },
     "metadata": {},
     "output_type": "display_data"
    }
   ],
   "source": [
    "import mitosheet\n",
    "\n",
    "mitosheet.sheet(df, analysis_to_replay=\"id-naezqirqvc\")"
   ]
  },
  {
   "cell_type": "code",
   "execution_count": null,
   "metadata": {},
   "outputs": [],
   "source": [
    "from mitosheet import *\n",
    "\n",
    "register_analysis(\"id-naezqirqvc\")\n",
    "\n",
    "# Set formula of jahr\n",
    "df[\"jahr\"] = SUBSTITUTE(df[\"jahr\"], \"X\", \"0\")\n",
    "\n",
    "# Changed jahr to dtype int\n",
    "df[\"jahr\"] = to_int_series(df[\"jahr\"])\n",
    "\n",
    "# Filtered jahr\n",
    "df = df[df[\"jahr\"] <= 1785]"
   ]
  },
  {
   "cell_type": "markdown",
   "metadata": {},
   "source": [
    "##### from mitosheet import *; register_analysis(\"id-naezqirqvc\");\n",
    "    \n",
    "# Set formula of jahr\n",
    "df['jahr'] = SUBSTITUTE(df['jahr'],'X','0')\n",
    "\n",
    "# Changed jahr to dtype int\n",
    "df['jahr'] = to_int_series(df['jahr'])\n"
   ]
  },
  {
   "cell_type": "code",
   "execution_count": null,
   "metadata": {},
   "outputs": [],
   "source": [
    "from mitosheet import *\n",
    "\n",
    "register_analysis(\"id-naezqirqvc\")\n",
    "\n",
    "# Set formula of jahr\n",
    "df[\"jahr\"] = SUBSTITUTE(df[\"jahr\"], \"X\", \"0\")\n",
    "\n",
    "# Changed jahr to dtype int\n",
    "df[\"jahr\"] = to_int_series(df[\"jahr\"])"
   ]
  }
 ],
 "metadata": {
  "kernelspec": {
   "display_name": "Python 3 (ipykernel)",
   "language": "python",
   "name": "python3"
  },
  "language_info": {
   "codemirror_mode": {
    "name": "ipython",
    "version": 3
   },
   "file_extension": ".py",
   "mimetype": "text/x-python",
   "name": "python",
   "nbconvert_exporter": "python",
   "pygments_lexer": "ipython3",
   "version": "3.10.5"
  },
  "vscode": {
   "interpreter": {
    "hash": "e7370f93d1d0cde622a1f8e1c04877d8463912d04d973331ad4851f04de6915a"
   }
  }
 },
 "nbformat": 4,
 "nbformat_minor": 4
}
