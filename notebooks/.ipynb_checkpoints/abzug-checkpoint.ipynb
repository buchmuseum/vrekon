{
 "cells": [
  {
   "cell_type": "code",
   "execution_count": 1,
   "metadata": {},
   "outputs": [],
   "source": [
    "import pandas as pd\n",
    "from collections import defaultdict\n",
    "import re\n",
    "import numpy as np\n"
   ]
  },
  {
   "cell_type": "markdown",
   "metadata": {},
   "source": [
    "Bevor dieses Skript ausgeführt wird, sollten aktuelle Rohdaten bereitgestellt werden. Dazu wird im Verzeichnis `../raw` ein Pica+-Dump aller DBSM-Bestände abgelegt. Dateiname `dbsm-titel-exemplare-mm-tt.dat` (mm-tt ist variabler Datumsstempel).\n",
    "\n",
    "Diese Datei kann mit pica-rs aus dem monatlichen Gesamtabzug inkl. Exemplardaten erzeugt werden.\n",
    "\n",
    "`pica filter -s \"017A.a =^ 'yy' || 209A/*.f =^ 'DBSM'\" DNBtitelundexemplare.dat.gz -o dbsm-titel-exemplare-22-6.dat`"
   ]
  },
  {
   "cell_type": "code",
   "execution_count": 2,
   "metadata": {},
   "outputs": [],
   "source": [
    "## allgemeine Funktionen\n",
    "\n",
    "def make_nested_frame(dict) -> pd.DataFrame:\n",
    "    \"\"\"\n",
    "    Die Funktion nimmt ein dreifach verschachteltes Dict und generiert daraus ein DataFrame mit dreifachem index\n",
    "    \"\"\"\n",
    "    return pd.DataFrame.from_dict({(k1, k2, k3): v3 \n",
    "      for k1, v1 in dict.items() \n",
    "      for k2, v2 in v1.items()\n",
    "      for k3, v3 in v2.items()},\n",
    "      orient='index', dtype='string')\n",
    "\n",
    "def feldauswertung(kategorie: str, inhalt: str) -> list[tuple[str,str]]:\n",
    "    \"\"\"\n",
    "    Die Funktion hat zwei Argumente: die Pica-Kategorie und den Feldinhalt.\n",
    "    Per regex wird das gewünschte Unterfeld gesucht und in einem tuple mit der Klarfeldbezeichnung ausgegeben.\n",
    "    Weil auch Unterfelder wiederholbar sind, kommt eine Liste von Tupeln zurück.\n",
    "    \"\"\"\n",
    "    ergebnisse = list()\n",
    "    matchlist = [\n",
    "        ('209A','f','standort'),\n",
    "        ('209A','g','signatur_g'),\n",
    "        ('209A','d','ausleihcode'),\n",
    "        ('209A','a','signatur_a'),\n",
    "        ('209A','c','sig_komm'),\n",
    "        ('209C','a','akz'),\n",
    "        ('237A','a','f4801_a'),\n",
    "        ('237A','k','f4801_k'),\n",
    "        ('247C','9','bibliothek')]\n",
    "\n",
    "    for match in matchlist:\n",
    "        if kategorie == match[0]:        \n",
    "            ergebnisse.append((match[2],'; '.join(re.findall(f\"\\${match[1]}([^\\$]+)\", inhalt))))\n",
    "    \n",
    "    return ergebnisse\n",
    "\n",
    "\n",
    "def get_exemplare(datei: str) -> pd.DataFrame:\n",
    "    \"\"\"\n",
    "    Auf IDN und Exemplardatenfelder reduzierter Dump, dessen Dateiname als Argument übergeben wird, wird in df mit gewünschten Feldern umgewandelt\n",
    "    \"\"\"\n",
    "    with open(f'../raw/{datei}', 'r') as f:\n",
    "        df = pd.DataFrame(dtype='string')\n",
    "        for l in f:\n",
    "            # print(l)\n",
    "            line = l.split(' ',1)\n",
    "            if l == '\\n':\n",
    "                df = pd.concat([df,make_nested_frame(exemplare)])\n",
    "\n",
    "            elif line[0] == '003@':\n",
    "                exemplare = defaultdict(lambda: defaultdict(lambda: defaultdict(lambda:defaultdict(str))))\n",
    "                idn = line[1][2:].strip()\n",
    "            elif line[0] == '101@':\n",
    "                einrichtung = line[1][2:].strip()\n",
    "            \n",
    "            else:\n",
    "                feld = line[0].split('/')\n",
    "                feldergebnis = feldauswertung(feld[0],line[1].strip())\n",
    "                for ergebnis in feldergebnis:\n",
    "                    # der seltsame join deshalb, weil Felder auch wiederholt werden können und die Ergebnisse dann zusammengezogen und durch Semikolon getrennt werden. wahrscheinlich nicht die beste lösung.\n",
    "                    exemplare[idn][einrichtung][feld[1]][ergebnis[0]] = '; '.join([ergebnis[1],exemplare[idn][einrichtung][feld[1]][ergebnis[0]]])  \n",
    "        \n",
    "        df.index.set_names(['idn','einrichtung','exemplar'], inplace=True)\n",
    "        return df.reset_index().apply(lambda x: x.str.strip('; ') if x.dtype == \"string\" else x).astype('string')\n",
    "\n",
    "def get_titel(datei: str) -> pd.DataFrame:\n",
    "    df = pd.read_csv(f'../raw/{datei}', low_memory=False, dtype='string')\n",
    "    df['titel'] = df.tit_a.str.cat(df.tit_d, sep=' : ', na_rep='')\n",
    "    df.loc[pd.notna(df.tit_Y), 'titel'] = df.tit_Y\n",
    "    df.titel = df.titel.str.slice(0,150)\n",
    "\n",
    "    df = df.merge(df.fillna('').groupby(['idn'])['f4243'].apply(', '.join).reset_index(), on='idn', how='right').drop(['f4243_x'], axis=1)\n",
    "    df = df.merge(df.fillna('').groupby(['idn'])['stuecktitel_l'].apply(', '.join).reset_index(), on='idn', how='right').drop(['stuecktitel_l_x'], axis=1)\n",
    "    df = df.merge(df.fillna('').groupby(['idn'])['stuecktitel_a'].apply(', '.join).reset_index(), on='idn', how='right').drop(['stuecktitel_a_x'], axis=1)\n",
    "\n",
    "    df['stuecktitel'] = df.stuecktitel_l_y.str.cat(df.stuecktitel_a_y, sep=' : ', na_rep='')\n",
    "    df.drop(['stuecktitel_l_y', 'stuecktitel_a_y', 'tit_a', 'tit_d', 'tit_Y'], axis=1, inplace=True)\n",
    "    df.rename({'f4243_y':'f4243'}, axis=1, inplace=True)\n",
    "    df.drop_duplicates(subset=['idn'], inplace=True)\n",
    "    \n",
    "    return df.astype('string') "
   ]
  },
  {
   "cell_type": "code",
   "execution_count": 3,
   "metadata": {},
   "outputs": [],
   "source": [
    "# Bö M\n",
    "\n",
    "titel = get_titel('böm-titel.csv')\n",
    "exemplare = get_exemplare('böm-exemplare.dat')\n",
    "\n",
    "exemplare = exemplare[((exemplare.bibliothek == '009030115') | (pd.isna(exemplare.bibliothek))) & exemplare.signatur_a.str.startswith('Bö')]\n",
    "\n",
    "df = titel.merge(exemplare, on='idn', how='right') \\\n",
    "    \n",
    "df = df[['idn','akz','bbg','standort','signatur_g','signatur_a','titel', 'stuecktitel','f4243','f4256','f4241','f4105_9','f4105_g','ausleihcode','sig_komm','f4801_a','f4801_k','bibliothek','einrichtung','exemplar']]\n",
    "df.to_csv('../dat/böm.csv', index=False)\n"
   ]
  },
  {
   "cell_type": "code",
   "execution_count": 4,
   "metadata": {},
   "outputs": [],
   "source": [
    "# Bö Ink\n",
    "titel = get_titel('böink-titel.csv')\n",
    "exemplare = get_exemplare('böink-exemplare.dat')\n",
    "exemplare = exemplare[exemplare.signatur_a.str.startswith('Bö')]\n",
    "\n",
    "df = titel.merge(exemplare, on='idn', how='right')\n",
    "\n",
    "df = df[['idn','akz','bbg','standort','signatur_g','signatur_a','titel','stuecktitel','f4243','f4256','f4241','f4105_9','f4105_g','ausleihcode','sig_komm','f4801_a','f4801_k','einrichtung','exemplar']]\n",
    "\n",
    "df.to_csv('../dat/böink.csv', index=False)"
   ]
  },
  {
   "cell_type": "code",
   "execution_count": 5,
   "metadata": {},
   "outputs": [],
   "source": [
    "# II Inkunabeln\n",
    "titel = get_titel('ii-titel.csv')\n",
    "\n",
    "exemplare = get_exemplare('ii-exemplare.dat')\n",
    "exemplare = exemplare[exemplare.signatur_a.str.startswith('II')]\n",
    "\n",
    "df = titel.merge(exemplare, on='idn', how='right') \n",
    "df = df[['idn','akz','bbg','standort','signatur_g','signatur_a','titel','stuecktitel','f4243','f4256','f4241','f4105_9','f4105_g','ausleihcode','sig_komm','f4801_a','f4801_k','einrichtung','exemplar']]\n",
    "df.to_csv('../dat/ii.csv', index=False)"
   ]
  },
  {
   "cell_type": "code",
   "execution_count": 6,
   "metadata": {},
   "outputs": [],
   "source": [
    "# III (Drucke 1501-1560)\n",
    "titel = get_titel('iii-titel.csv')\n",
    "\n",
    "exemplare = get_exemplare('iii-exemplare.dat')\n",
    "exemplare = exemplare[((exemplare.bibliothek == '009030115') | (pd.isna(exemplare.bibliothek))) & exemplare.signatur_a.str.startswith('III')]\n",
    "\n",
    "df = titel.merge(exemplare, on='idn', how='right')\n",
    "df = df[['idn','akz','bbg','standort','signatur_g','signatur_a','titel','stuecktitel','f4243','f4256','f4241','f4105_9','f4105_g','ausleihcode','sig_komm','f4801_a','f4801_k','einrichtung','exemplar']]\n",
    "\n",
    "df.to_csv('../dat/iii.csv', index=False)"
   ]
  },
  {
   "cell_type": "code",
   "execution_count": 7,
   "metadata": {},
   "outputs": [],
   "source": [
    "# IV (Drucke 1561-1800)\n",
    "titel = get_titel('iv-titel.csv')\n",
    "\n",
    "exemplare = get_exemplare('iv-exemplare.dat')\n",
    "exemplare = exemplare[((exemplare.bibliothek == '009030115') | (pd.isna(exemplare.bibliothek))) & exemplare.signatur_a.str.startswith('IV')]\n",
    "\n",
    "df = titel.merge(exemplare, on='idn', how='right')\n",
    "df = df[['idn','akz','bbg','standort','signatur_g','signatur_a','jahr','titel','stuecktitel','f4243','f4256','f4241','f4105_9','f4105_g','ausleihcode','sig_komm','f4801_a','f4801_k','bibliothek','einrichtung','exemplar']]\n",
    "df.jahr = df.jahr.str.replace('X','0')\n",
    "df.fillna({'jahr':'0'}, inplace=True)\n",
    "df = df.astype({'jahr':'int'})\n",
    "df[(df.jahr < 1831)].to_csv('../dat/iv.csv', index=False)"
   ]
  },
  {
   "cell_type": "code",
   "execution_count": 8,
   "metadata": {},
   "outputs": [],
   "source": [
    "# I (Handschriften, nur vor 1831)\n",
    "titel = get_titel('i-titel.csv')\n",
    "\n",
    "exemplare = get_exemplare('i-exemplare.dat')\n",
    "exemplare = exemplare[((exemplare.bibliothek == '009030115') | (pd.isna(exemplare.bibliothek))) & exemplare.signatur_a.str.startswith('I')]\n",
    "\n",
    "df = titel.merge(exemplare, on='idn', how='right')\n",
    "df = df[['idn','akz','bbg','standort','signatur_g','signatur_a','jahr','titel','stuecktitel','f4243','f4256','f4241','f4105_9','f4105_g','ausleihcode','sig_komm','f4801_a','f4801_k','bibliothek','einrichtung','exemplar']]\n",
    "\n",
    "df.jahr = df.jahr.str.replace('X','0')\n",
    "df.fillna({'jahr':'0'}, inplace=True)\n",
    "df = df.astype({'jahr':'int'})\n",
    "\n",
    "df[(df.jahr < 1831)].to_csv('../dat/i.csv', index=False)\n"
   ]
  },
  {
   "cell_type": "code",
   "execution_count": 9,
   "metadata": {},
   "outputs": [],
   "source": [
    "# V (nur bis EJ 1830)\n",
    "titel = get_titel('v-titel.csv')\n",
    "\n",
    "exemplare = get_exemplare('v-exemplare.dat')\n",
    "exemplare = exemplare[((exemplare.bibliothek == '009030115') | (pd.isna(exemplare.bibliothek))) & exemplare.signatur_a.str.startswith('V')]\n",
    "\n",
    "titel.jahr = titel.jahr.str.replace('X','0')\n",
    "titel.fillna({'jahr':'0'}, inplace=True)\n",
    "titel = titel.astype({'jahr':'int'})\n",
    "df = titel[titel.jahr < 1831].merge(exemplare, on='idn', how='right')\n",
    "df = df[['idn','akz','bbg','standort','signatur_g','signatur_a','jahr','titel','stuecktitel','f4243','f4256','f4241','f4105_9','f4105_g','ausleihcode','sig_komm','f4801_a','f4801_k','bibliothek','einrichtung','exemplar']]\n",
    "\n",
    "df[df.jahr < 1831].to_csv('../dat/v.csv', index=False)"
   ]
  },
  {
   "cell_type": "code",
   "execution_count": 10,
   "metadata": {},
   "outputs": [],
   "source": [
    "# VIII (nur bis EJ 1830)\n",
    "\n",
    "titel = get_titel('viii-titel.csv')\n",
    "exemplare = get_exemplare('viii-exemplare.dat')\n",
    "exemplare = exemplare[((exemplare.bibliothek == '009030115') | (pd.isna(exemplare.bibliothek))) & exemplare.signatur_a.str.startswith('VIII')]\n",
    "\n",
    "titel.jahr = titel.jahr.str.replace('X','0')\n",
    "titel.fillna({'jahr':'0'}, inplace=True)\n",
    "titel = titel.astype({'jahr':'int'})\n",
    "df = titel[titel.jahr < 1831].merge(exemplare, on='idn', how='right')\n",
    "df = df[['idn','akz','bbg','standort','signatur_g','signatur_a','jahr','titel','stuecktitel','f4243','f4256','f4241','f4105_9','f4105_g','ausleihcode','sig_komm','f4801_a','f4801_k','bibliothek','einrichtung','exemplar']]\n",
    "df[df.jahr < 1831].to_csv('../dat/viii.csv', index=False)"
   ]
  },
  {
   "cell_type": "code",
   "execution_count": 11,
   "metadata": {},
   "outputs": [],
   "source": [
    "# Bö Fachbibliothek\n",
    "titel = get_titel('böf-titel.csv')\n",
    "\n",
    "exemplare = get_exemplare('böf-exemplare.dat')\n",
    "exemplare = exemplare[((exemplare.bibliothek == '009030115') | (pd.isna(exemplare.bibliothek))) & exemplare.signatur_a.str.startswith('Bö')]\n",
    "\n",
    "titel.jahr = titel.jahr.str.replace('X','0')\n",
    "titel.fillna({'jahr':'0'}, inplace=True)\n",
    "titel = titel.astype({'jahr':'int'})\n",
    "\n",
    "df = titel[titel.jahr < 1831].merge(exemplare, on='idn', how='right')\n",
    "df = df[['idn','akz','bbg','standort','signatur_g','signatur_a','jahr','titel','stuecktitel','f4243','f4256','f4241','f4105_9','f4105_g','ausleihcode','sig_komm','f4801_a','f4801_k','bibliothek','einrichtung','exemplar']]\n",
    "df[df.jahr < 1831].to_csv('../dat/böf.csv', index=False)"
   ]
  },
  {
   "cell_type": "code",
   "execution_count": 12,
   "metadata": {},
   "outputs": [],
   "source": [
    "# Klemm Fachbibliothek\n",
    "\n",
    "titel = get_titel('klemmf-titel.csv')\n",
    "\n",
    "exemplare = get_exemplare('klemmf-exemplare.dat')\n",
    "exemplare = exemplare[((exemplare.bibliothek == '009030115') | (pd.isna(exemplare.bibliothek))) & (exemplare.signatur_a.str.contains(r'^[A-Z][a-z].*') | exemplare.signatur_g.str.contains(r'^[A-Z][a-z].*'))]\n",
    "\n",
    "titel.jahr = titel.jahr.str.replace('X','0')\n",
    "titel.fillna({'jahr':'0'}, inplace=True)\n",
    "titel = titel.astype({'jahr':'int'})\n",
    "\n",
    "df = titel[titel.jahr < 1831].merge(exemplare, on='idn', how='right')\n",
    "df = df[['idn','akz','bbg','standort','signatur_g','signatur_a','jahr','titel','stuecktitel','f4243','f4256','f4241','f4105_9','f4105_g','ausleihcode','sig_komm','f4801_a','f4801_k','bibliothek','einrichtung','exemplar']]\n",
    "df[df.jahr < 1831].to_csv('../dat/klemmf.csv', index=False)"
   ]
  }
 ],
 "metadata": {
  "interpreter": {
   "hash": "399238374a065e6ba8b3caf5d52dd0dd35b3269f1e87526041e7a2ed68d24989"
  },
  "kernelspec": {
   "display_name": "Python 3 (ipykernel)",
   "language": "python",
   "name": "python3"
  },
  "language_info": {
   "codemirror_mode": {
    "name": "ipython",
    "version": 3
   },
   "file_extension": ".py",
   "mimetype": "text/x-python",
   "name": "python",
   "nbconvert_exporter": "python",
   "pygments_lexer": "ipython3",
   "version": "3.10.5"
  }
 },
 "nbformat": 4,
 "nbformat_minor": 4
}
