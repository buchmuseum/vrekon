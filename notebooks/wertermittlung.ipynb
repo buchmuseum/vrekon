{
 "cells": [
  {
   "cell_type": "code",
   "execution_count": 1,
   "metadata": {},
   "outputs": [],
   "source": [
    "import pandas as pd\n",
    "from glob import glob"
   ]
  },
  {
   "cell_type": "code",
   "execution_count": 19,
   "metadata": {},
   "outputs": [],
   "source": [
    "blaetter = ['Gruppe IV']\n",
    "df = pd.DataFrame()\n",
    "for blatt in blaetter:\n",
    "    df = pd.concat([df,pd.read_excel(\"/mnt/c/Daten/linux-ext/Projekte/vrekon/Bücher_mit_Rest.bedarf_für_Bettina.xlsx\", sheet_name=f\"{blatt}\", usecols=[\"akz\", \"idn\", \"signatur\"], names=['nr','akz','idn',\"link\",'signatur'], dtype='string')])\n",
    "\n",
    "dateiliste = glob(\"../abzug/*.csv\")\n",
    "abzug = pd.DataFrame()\n",
    "for datei in dateiliste:\n",
    "    abzug = pd.concat([abzug,pd.read_csv(datei, dtype='string')])\n"
   ]
  },
  {
   "cell_type": "code",
   "execution_count": 21,
   "metadata": {},
   "outputs": [],
   "source": [
    "df.merge(abzug, left_on=['akz','idn'], right_on=['akz','idn'], how=\"left\").to_excel(\"restaurierung-mit-titel-wert-iv.xlsx\", index=False)"
   ]
  }
 ],
 "metadata": {
  "kernelspec": {
   "display_name": "Python 3.10.7 ('vrekon-e7A2tzLD-py3.10')",
   "language": "python",
   "name": "python3"
  },
  "language_info": {
   "codemirror_mode": {
    "name": "ipython",
    "version": 3
   },
   "file_extension": ".py",
   "mimetype": "text/x-python",
   "name": "python",
   "nbconvert_exporter": "python",
   "pygments_lexer": "ipython3",
   "version": "3.10.7"
  },
  "orig_nbformat": 4,
  "vscode": {
   "interpreter": {
    "hash": "43b4b565913fb443464366ca81a04d75fdbcf9de4a21bbb831c8a0b1035f58ef"
   }
  }
 },
 "nbformat": 4,
 "nbformat_minor": 2
}
