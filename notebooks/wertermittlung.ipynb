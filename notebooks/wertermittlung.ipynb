{
 "cells": [
  {
   "cell_type": "code",
   "execution_count": null,
   "metadata": {},
   "outputs": [],
   "source": [
    "4821 = 220C/*.w\n",
    "4700 = 047A.c\n",
    "\n"
   ]
  },
  {
   "cell_type": "code",
   "execution_count": 10,
   "metadata": {},
   "outputs": [],
   "source": [
    "import pandas as pd\n",
    "from glob import glob"
   ]
  },
  {
   "cell_type": "code",
   "execution_count": 41,
   "metadata": {},
   "outputs": [],
   "source": [
    "blaetter = ['Gruppe III','Schreibmeisterbücher','Bö_Ink', 'Bö_M']\n",
    "df = pd.DataFrame()\n",
    "for blatt in blaetter:\n",
    "    df = pd.concat([df,pd.read_excel(\"/media/sf_linux-ext/Projekte/vrekon/restaurierungsbedarf.xlsx\", sheet_name=f\"{blatt}\", names=['nr','akz','idn','link','signatur'], dtype={'nr':'string',\n",
    "'akz':'string',\n",
    "'idn':'string',\n",
    "'link':'string',\n",
    "'signatur':'string',})])\n",
    "df.drop([\"nr\",\"link\"], axis=1, inplace=True)\n",
    "\n",
    "dateiliste = glob(\"../abzug/*.csv\")\n",
    "abzug = pd.DataFrame()\n",
    "for datei in dateiliste:\n",
    "    abzug = pd.concat([abzug,pd.read_csv(datei,dtype={'idn':'string',\n",
    "'akz':'string',\n",
    "'bbg':'string',\n",
    "'standort':'string',\n",
    "'signatur_g':'string',\n",
    "'signatur_a':'string',\n",
    "'titel':'string',\n",
    "'stuecktitel':'string',\n",
    "'umfang':'string',\n",
    "'f4243':'string',\n",
    "'f4256':'string',\n",
    "'f4241':'string',\n",
    "'f4105_9':'string',\n",
    "'f4105_g':'string',\n",
    "'ausleihcode':'string',\n",
    "'sig_komm':'string',\n",
    "'f4801_a':'string',\n",
    "'bibliothek':'string',\n",
    "'einrichtung':'string',\n",
    "'exemplar':'string',\n",
    "'wert':'string',\n",
    "'f4801_k':'string',\n",
    "'jahr':'string',})])\n"
   ]
  },
  {
   "cell_type": "code",
   "execution_count": 42,
   "metadata": {},
   "outputs": [],
   "source": [
    "df.merge(abzug, left_on=['akz','idn'], right_on=['akz','idn'], how=\"left\").to_csv(\"restaurierung.csv\", index=False)"
   ]
  }
 ],
 "metadata": {
  "kernelspec": {
   "display_name": "Python 3.10.5 ('vrekon--GkKwFLw-py3.10')",
   "language": "python",
   "name": "python3"
  },
  "language_info": {
   "codemirror_mode": {
    "name": "ipython",
    "version": 3
   },
   "file_extension": ".py",
   "mimetype": "text/x-python",
   "name": "python",
   "nbconvert_exporter": "python",
   "pygments_lexer": "ipython3",
   "version": "3.10.6"
  },
  "orig_nbformat": 4,
  "vscode": {
   "interpreter": {
    "hash": "4420fd90279ad56da5a46973760158866ace8a0579cb7b053b42130c0ae77cd7"
   }
  }
 },
 "nbformat": 4,
 "nbformat_minor": 2
}
