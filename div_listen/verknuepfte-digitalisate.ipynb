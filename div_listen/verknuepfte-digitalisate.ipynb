{
 "cells": [
  {
   "cell_type": "markdown",
   "metadata": {},
   "source": [
    "# Listen mit Verknüpfungen aus 4243/039D{9,l,t,x,y} und 4256/039I{9,l,t,x,y} generieren\n",
    "\n",
    "## Ergebnisse\n",
    "\n",
    "- Bö M, alle digitalisieren, auch wenn Verknüpfung enthalten, außer IDN 1003856543\n",
    "- Bö Ink, alle digitalisieren\n",
    "- II, alle außer IDN 1064781187\n",
    "- III, alle außer IDN 997383259\n",
    "- IV, alle außer 994726791, 997309466, 1066785597, 1066869103, 1100197079, 1132656737, 1132656745\n",
    "- Schreibmeister, alle\n",
    "\n",
    "- Erledigt: alle bereits verknüpften Digitalisate wurden intellektuell geprüft. Datensätze, die bereits ein DNB-Digitalisat haben, wurden in die Ausschluss-Liste eingetragen.\n",
    "\n",
    "\n"
   ]
  },
  {
   "cell_type": "code",
   "execution_count": null,
   "metadata": {
    "vscode": {
     "languageId": "shellscript"
    }
   },
   "outputs": [],
   "source": [
    "- pica filter \"(209A/*.a =^ 'Bö M' || 209A/*.g =^ 'Bö M' || 209A/*.a =^ 'Boe M' || 209A/*.g =^ 'Boe M') && (039D.9? || 039I.9?)\" dump/dbsm-titel-exemplare.dat.gz | pica select --translit nfc \"003@.0,002@.0,021A{a,d},021A{Y?,Y},021B{l,a},039D.9,039I.9\" -H \"idn,bbg,tit_a, tit_d, tit_Y,stuecktitel_l,stuecktitel_a, f4243,f4256\" -o div_listen/böm-verknuepfungen.csv    \n",
    "\n",
    "- pica filter \"(209A/*.a =^ 'Bö Ink' || 209A/*.g =^ 'Bö Ink') && (039D.9? || 039I.9?)\" dump/dbsm-titel-exemplare.dat.gz | pica select --translit nfc \"003@.0,002@.0,021A{a,d},021A{Y?,Y},021B{l,a},039D.9,039I.9\" -H \"idn,bbg,tit_a, tit_d, tit_Y,stuecktitel_l,stuecktitel_a, f4243,f4256\" -o div_listen/böink-verknuepfungen.csv  \n",
    "\n",
    "# Damit hier nicht auf die III kommt, wird nach II+Leerzeichen gesucht.\n",
    "- pica filter \"(209A/*.a =^ 'II ') && (039D.9? || 039I.9?)\" dump/dbsm-titel-exemplare.dat.gz | pica select --translit nfc \"003@.0,002@.0,021A{a,d},021A{Y?,Y},021B{l,a},039D.9,039I.9\" -H \"idn,bbg,tit_a, tit_d, tit_Y,stuecktitel_l,stuecktitel_a, f4243,f4256\" -o div_listen/ii-verknuepfungen.csv\n",
    "\n",
    "- pica filter \"(209A/*.a =^ 'III') && (039D.9? || 039I.9?)\" dump/dbsm-titel-exemplare.dat.gz | pica select --translit nfc \"003@.0,002@.0,021A{a,d},021A{Y?,Y},021B{l,a},039D.9,039I.9\" -H \"idn,bbg,tit_a, tit_d, tit_Y,stuecktitel_l,stuecktitel_a, f4243,f4256\" -o div_listen/iii-verknuepfungen.csv\n",
    "\n",
    "- pica filter \"(209A/*.a =^ 'IV') && (039D.9? || 039I.9?)\" dump/dbsm-titel-exemplare.dat.gz | pica select --translit nfc \"003@.0,002@.0,021A{a,d},021A{Y?,Y},021B{l,a},039D.9,039I.9\" -H \"idn,bbg,tit_a, tit_d, tit_Y,stuecktitel_l,stuecktitel_a, f4243,f4256\" -o div_listen/iv-verknuepfungen.csv\n",
    "\n",
    "# TODO\n",
    "# Der Jahresfilter bei den Schreibmeister-Exemplaren reicht erstens bis 1830 und könnte ggf. gefährlich sein, falls die Daten in 011@.a nicht korrekt sind.\n",
    "\n",
    "- pica filter \"(044P/*.9 == '041799844') && (039D.9? || 039I.9?)\" dump/dbsm-titel-exemplare.dat.gz | pica select --translit nfc \"003@.0,002@.0,021A{a,d},021A{Y?,Y},021B{l,a},039D.9,039I.9\" -H \"idn,bbg,tit_a, tit_d, tit_Y,stuecktitel_l,stuecktitel_a, f4243,f4256\" -o div_listen/schreibmeister-verknuepfungen.csv"
   ]
  }
 ],
 "metadata": {
  "kernelspec": {
   "display_name": "Python 3.10.7 64-bit",
   "language": "python",
   "name": "python3"
  },
  "language_info": {
   "name": "python",
   "version": "3.10.7"
  },
  "orig_nbformat": 4,
  "vscode": {
   "interpreter": {
    "hash": "97cc609b13305c559618ec78a438abc56230b9381f827f22d070313b9a1f3777"
   }
  }
 },
 "nbformat": 4,
 "nbformat_minor": 2
}
