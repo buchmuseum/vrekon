{
 "cells": [
  {
   "cell_type": "code",
   "execution_count": 1,
   "metadata": {},
   "outputs": [],
   "source": [
    "import pandas as pd\n",
    "import mitosheet"
   ]
  },
  {
   "cell_type": "markdown",
   "metadata": {},
   "source": [
    "# Bö Ink\n",
    "\n",
    "Alle Datensätze, ausgefiltert:\n",
    "\n",
    "- Sätze mit Verknüpfung in 4105 (Verknüpfung Qd)\n",
    "- Sätze mit Verknüpfung in 4241 (Beziehung zu größerer Einheit) \n",
    "- Sätze mit Verknüpfung in 4256 (Reproduktion)\n",
    "- Sätze mit Verknüpfung in 4243 (Parallelausgabe)\n",
    "- \"angeb\" in Signatur\n",
    "- Satzart \"Aaq\"\n",
    "- Standort DA"
   ]
  },
  {
   "cell_type": "code",
   "execution_count": null,
   "metadata": {},
   "outputs": [],
   "source": [
    "df = pd.read_csv(\"../dat/böink.csv\")\n",
    "\n",
    "# Filtered f4105_9\n",
    "df = df[df[\"f4105_9\"].isna()]\n",
    "\n",
    "# Filtered f4241\n",
    "df = df[df[\"f4241\"].isna()]\n",
    "\n",
    "# Filtered f4256\n",
    "df = df[df[\"f4256\"].isna()]\n",
    "\n",
    "# Filtered f4243\n",
    "df = df[df[\"f4243\"].isna()]\n",
    "\n",
    "# Filtered signatur_g\n",
    "df = df[~df[\"signatur_g\"].str.contains(\"angeb\", na=False)]\n",
    "\n",
    "# Filtered signatur_a\n",
    "df = df[~df[\"signatur_a\"].str.contains(\"angeb\", na=False)]\n",
    "\n",
    "# Filtered bbg\n",
    "df = df[~df[\"bbg\"].str.contains(\"Aaq\", na=False)]\n",
    "\n",
    "# Filtered standort\n",
    "df = df[df[\"standort\"] != \"DBSM/DA\"]\n",
    "\n",
    "# df.to_csv(\"../dat/böink-filtered.csv\", index=False)\n",
    "df"
   ]
  },
  {
   "cell_type": "code",
   "execution_count": 4,
   "metadata": {},
   "outputs": [
    {
     "data": {
      "application/vnd.jupyter.widget-view+json": {
       "model_id": "2f53829b612f4e57a86054585160b8ff",
       "version_major": 2,
       "version_minor": 0
      },
      "text/plain": [
       "MitoWidget(analysis_data_json='{\"analysisName\": \"id-vnikrwgoed\", \"analysisToReplay\": null, \"code\": [], \"stepSu…"
      ]
     },
     "metadata": {},
     "output_type": "display_data"
    }
   ],
   "source": [
    "import mitosheet\n",
    "mitosheet.sheet(df, analysis_to_replay=\"id-vnikrwgoed\")"
   ]
  },
  {
   "cell_type": "code",
   "execution_count": null,
   "metadata": {},
   "outputs": [],
   "source": [
    "from mitosheet import *; register_analysis(\"id-vnikrwgoed\");\n",
    "    \n",
    "# Filtered signatur_g\n",
    "df = df[df['signatur_g'].str.contains('Bö Ink 2', na=False)]\n"
   ]
  },
  {
   "cell_type": "markdown",
   "metadata": {},
   "source": [
    "# II (Klemm-Inkunabeln)\n",
    "\n"
   ]
  },
  {
   "cell_type": "markdown",
   "metadata": {},
   "source": [
    "Alle Datensätze, ausgefiltert:\n",
    "\n",
    "- Sätze mit Verknüpfung in 4105 (Verknüpfung Qd)\n",
    "- Sätze mit Verknüpfung in 4241 (Beziehung zu größerer Einheit) \n",
    "- Sätze mit Verknüpfung in 4256 (Reproduktion)\n",
    "- Sätze mit Verknüpfung in 4243 (Parallelausgabe)\n",
    "- \"angeb\" in Signatur\n",
    "- Standort DA"
   ]
  },
  {
   "cell_type": "code",
   "execution_count": 3,
   "metadata": {},
   "outputs": [],
   "source": [
    "df = pd.read_csv(\"../dat/ii.csv\")\n",
    "\n",
    "# Filtered f4256\n",
    "df = df[df[\"f4256\"].isna()]\n",
    "\n",
    "# Filtered f4105_9\n",
    "df = df[df[\"f4105_9\"].isna()]\n",
    "\n",
    "# Filtered f4241\n",
    "df = df[df[\"f4241\"].isna()]\n",
    "\n",
    "# Filtered f4243\n",
    "df = df[df[\"f4243\"].isna()]\n",
    "\n",
    "# Filtered signatur_g\n",
    "df = df[~df[\"signatur_g\"].str.contains(\"angeb\", na=False)]\n",
    "\n",
    "# Filtered signatur_a\n",
    "df = df[~df[\"signatur_a\"].str.contains(\"angeb\", na=False)]\n",
    "\n",
    "# Filtered standort\n",
    "df = df[df[\"standort\"] != \"DBSM/DA\"]\n",
    "\n",
    "df.to_csv(\"../dat/ii-filtered.csv\", index=False)"
   ]
  },
  {
   "cell_type": "markdown",
   "metadata": {},
   "source": [
    "# III (1501-1560)\n",
    "\n",
    "alle, hier ausgefilter:\n",
    "\n",
    "Alle Datensätze, ausgefiltert:\n",
    "\n",
    "- Sätze mit Verknüpfung in 4105 (Verknüpfung Qd)\n",
    "- Sätze mit Verknüpfung in 4241 (Beziehung zu größerer Einheit) \n",
    "- Sätze mit Verknüpfung in 4256 (Reproduktion)\n",
    "- Sätze mit Verknüpfung in 4243 (Parallelausgabe)\n",
    "- \"angeb\" in Signatur\n",
    "- Standort DA\n",
    "- Satzart Hal, Aaq\n",
    "- Signatur II 30,13"
   ]
  },
  {
   "cell_type": "code",
   "execution_count": null,
   "metadata": {},
   "outputs": [],
   "source": [
    "df = pd.read_csv(\"../dat/iii.csv\")\n",
    "\n",
    "# Filtered signatur_g\n",
    "df = df[~df[\"signatur_g\"].str.contains(\"angeb\", na=False)]\n",
    "\n",
    "# Filtered signatur_a\n",
    "df = df[~df[\"signatur_a\"].str.contains(\"angeb\", na=False)]\n",
    "\n",
    "# Filtered f4243\n",
    "df = df[df[\"f4243\"].isna()]\n",
    "\n",
    "# Filtered f4256\n",
    "df = df[df[\"f4256\"].isna()]\n",
    "\n",
    "# Filtered f4241\n",
    "df = df[df[\"f4241\"].isna()]\n",
    "\n",
    "# Filtered f4105_9\n",
    "df = df[df[\"f4105_9\"].isna()]\n",
    "\n",
    "# Filtered standort\n",
    "df = df[df[\"standort\"] != \"DBSM/DA\"]\n",
    "\n",
    "# Filtered bbg\n",
    "df = df[df[\"bbg\"] != \"Hal\"]\n",
    "\n",
    "# Filtered bbg\n",
    "df = df[~df[\"bbg\"].str.contains(\"Aaq\", na=False)]\n",
    "\n",
    "# Filtered signatur_g\n",
    "df = df[~df[\"signatur_g\"].str.contains(\"II 30,13\", na=False)]\n",
    "\n",
    "df.to_csv(\"../dat/iii-filtered.csv\", index=False)\n",
    "df"
   ]
  },
  {
   "cell_type": "code",
   "execution_count": 17,
   "metadata": {},
   "outputs": [
    {
     "data": {
      "application/vnd.jupyter.widget-view+json": {
       "model_id": "8e7d9d8cdec54031bcf670163c6e7337",
       "version_major": 2,
       "version_minor": 0
      },
      "text/plain": [
       "MitoWidget(analysis_data_json='{\"analysisName\": \"id-axhmthctlg\", \"analysisToReplay\": null, \"code\": [], \"stepSu…"
      ]
     },
     "metadata": {},
     "output_type": "display_data"
    }
   ],
   "source": [
    "import mitosheet\n",
    "mitosheet.sheet(df, analysis_to_replay=\"id-axhmthctlg\")"
   ]
  },
  {
   "cell_type": "code",
   "execution_count": null,
   "metadata": {},
   "outputs": [],
   "source": [
    "from mitosheet import *; register_analysis(\"id-axhmthctlg\");\n",
    "    \n",
    "# Filtered bbg\n",
    "df = df[df['bbg'].str.contains('Aal', na=False)]\n"
   ]
  },
  {
   "cell_type": "markdown",
   "metadata": {},
   "source": [
    "# IV\n",
    "\n",
    "alle bis einschließlich EJ 1785, hier ausgefiltert:\n",
    "\n",
    "- Sätze mit Verknüpfung in 4105 (Verknüpfung Qd)\n",
    "- Sätze mit Verknüpfung in 4241 (Beziehung zu größerer Einheit) \n",
    "- Sätze mit Verknüpfung in 4256 (Reproduktion)\n",
    "- Sätze mit Verknüpfung in 4243 (Parallelausgabe)\n",
    "- \"angeb\" in Signatur\n",
    "- Standort DA\n",
    "- Zedler\n",
    "\n",
    "IDN manuell ausgesondert 1002995671 inkl. angehängte Werke\n",
    "Schreibmeisterbuch 1001523539 raus und in Sonderliste"
   ]
  },
  {
   "cell_type": "code",
   "execution_count": null,
   "metadata": {},
   "outputs": [],
   "source": [
    "df = pd.read_csv(\"../dat/iv.csv\")\n",
    "\n",
    "# Filtered signatur_g\n",
    "df = df[~df[\"signatur_g\"].str.contains(\"angeb\", na=False)]\n",
    "\n",
    "# Filtered signatur_a\n",
    "df = df[~df[\"signatur_a\"].str.contains(\"angeb\", na=False)]\n",
    "\n",
    "# Filtered f4243\n",
    "df = df[df[\"f4243\"].isna()]\n",
    "\n",
    "# Filtered f4256\n",
    "df = df[df[\"f4256\"].isna()]\n",
    "\n",
    "# Filtered f4241\n",
    "df = df[df[\"f4241\"].isna()]\n",
    "\n",
    "# Filtered f4105_9\n",
    "df = df[df[\"f4105_9\"].isna()]\n",
    "\n",
    "# Filtered jahr\n",
    "df = df[df[\"jahr\"] <= 1785]\n",
    "\n",
    "# Filtered standort\n",
    "df = df[df[\"standort\"] != \"DBSM/DA\"]\n",
    "\n",
    "# Filtered signatur_g\n",
    "df = df[~df[\"signatur_g\"].str.contains(\"IV 205, 76\", na=False)]\n",
    "\n",
    "# Filtered signatur_a\n",
    "df = df[~df[\"signatur_a\"].str.contains(\"IV 205,76\", na=False)]\n",
    "\n",
    "# Filtered signatur_g\n",
    "df = df[~df[\"signatur_g\"].str.contains(\"IV 114, 15\", na=False)]\n",
    "\n",
    "# Filtered signatur_g\n",
    "df = df[~df[\"signatur_g\"].str.contains(\"IV 114, 13a\", na=False)]\n",
    "\n",
    "df.to_csv(\"../dat/iv-filtered.csv\", index=False)\n",
    "df"
   ]
  },
  {
   "cell_type": "markdown",
   "metadata": {},
   "source": [
    "# Bö M\n",
    "\n",
    "alle, hier ausgefilter:\n",
    "\n",
    "Alle Datensätze, ausgefiltert:\n",
    "\n",
    "- Sätze mit Verknüpfung in 4105 (Verknüpfung Qd)\n",
    "- Sätze mit Verknüpfung in 4241 (Beziehung zu größerer Einheit) \n",
    "- Sätze mit Verknüpfung in 4256 (Reproduktion)\n",
    "- Sätze mit Verknüpfung in 4243 (Parallelausgabe)\n",
    "- \"angeb\" in Signatur\n",
    "- Standort DA"
   ]
  },
  {
   "cell_type": "code",
   "execution_count": 6,
   "metadata": {},
   "outputs": [],
   "source": [
    "df = pd.read_csv(\"../dat/böm.csv\")\n",
    "\n",
    "# Filtered signatur_g\n",
    "df = df[~df[\"signatur_g\"].str.contains(\"angeb\", na=False)]\n",
    "\n",
    "# Filtered signatur_a\n",
    "df = df[~df[\"signatur_a\"].str.contains(\"angeb\", na=False)]\n",
    "\n",
    "# Filtered f4243\n",
    "df = df[df[\"f4243\"].isna()]\n",
    "\n",
    "# Filtered f4256\n",
    "df = df[df[\"f4256\"].isna()]\n",
    "\n",
    "# Filtered f4241\n",
    "df = df[df[\"f4241\"].isna()]\n",
    "\n",
    "# Filtered f4105_9\n",
    "df = df[df[\"f4105_9\"].isna()]\n",
    "\n",
    "# Filtered standort\n",
    "df = df[df[\"standort\"] != \"DBSM/DA\"]\n",
    "\n",
    "# Filtered bbg\n",
    "df = df[df[\"bbg\"] != \"Hal\"]\n",
    "\n",
    "# Filtered bbg\n",
    "df = df[df[\"bbg\"] != \"Hfl\"]\n",
    "\n",
    "# Filtered bbg\n",
    "df = df[df[\"bbg\"] != \"Pa\"]\n",
    "\n",
    "df.to_csv(\"../dat/böm_filtered.csv\", index=False)"
   ]
  },
  {
   "cell_type": "markdown",
   "metadata": {},
   "source": [
    "# Abgleich mit den BE-Excel-Listen"
   ]
  },
  {
   "cell_type": "code",
   "execution_count": 53,
   "metadata": {},
   "outputs": [
    {
     "name": "stderr",
     "output_type": "stream",
     "text": [
      "/home/andre/.cache/pypoetry/virtualenvs/base-_zdkNckr-py3.10/lib/python3.10/site-packages/openpyxl/worksheet/_reader.py:312: UserWarning: Data Validation extension is not supported and will be removed\n",
      "  warn(msg)\n"
     ]
    },
    {
     "ename": "ValueError",
     "evalue": "Can only compare identically-labeled DataFrame objects",
     "output_type": "error",
     "traceback": [
      "\u001b[0;31m---------------------------------------------------------------------------\u001b[0m",
      "\u001b[0;31mValueError\u001b[0m                                Traceback (most recent call last)",
      "Input \u001b[0;32mIn [53]\u001b[0m, in \u001b[0;36m<cell line: 18>\u001b[0;34m()\u001b[0m\n\u001b[1;32m      4\u001b[0m excel\u001b[38;5;241m.\u001b[39mrename({\u001b[38;5;124m\"\u001b[39m\u001b[38;5;124mAKZ\u001b[39m\u001b[38;5;124m\"\u001b[39m: \u001b[38;5;124m\"\u001b[39m\u001b[38;5;124makz\u001b[39m\u001b[38;5;124m\"\u001b[39m, \u001b[38;5;124m\"\u001b[39m\u001b[38;5;124mIDN\u001b[39m\u001b[38;5;124m\"\u001b[39m: \u001b[38;5;124m\"\u001b[39m\u001b[38;5;124midn\u001b[39m\u001b[38;5;124m\"\u001b[39m}, axis\u001b[38;5;241m=\u001b[39m\u001b[38;5;124m\"\u001b[39m\u001b[38;5;124mcolumns\u001b[39m\u001b[38;5;124m\"\u001b[39m, inplace\u001b[38;5;241m=\u001b[39m\u001b[38;5;28;01mTrue\u001b[39;00m)\n\u001b[1;32m      5\u001b[0m \u001b[38;5;66;03m# excel.merge(df, how=\"left\", on=[\"akz\", \"idn\"])\u001b[39;00m\n\u001b[1;32m      6\u001b[0m \u001b[38;5;66;03m# excel[\"projekt\"] =\u001b[39;00m\n\u001b[1;32m      7\u001b[0m \n\u001b[0;32m   (...)\u001b[0m\n\u001b[1;32m     15\u001b[0m \u001b[38;5;66;03m# )\u001b[39;00m\n\u001b[1;32m     16\u001b[0m \u001b[38;5;66;03m# df1['D'] = (df1[['A', 'B']] == df2).all(axis=1).astype(int)\u001b[39;00m\n\u001b[0;32m---> 18\u001b[0m excel[\u001b[38;5;124m\"\u001b[39m\u001b[38;5;124mD\u001b[39m\u001b[38;5;124m\"\u001b[39m] \u001b[38;5;241m=\u001b[39m (\u001b[43mexcel\u001b[49m\u001b[43m[\u001b[49m\u001b[43m[\u001b[49m\u001b[38;5;124;43m'\u001b[39;49m\u001b[38;5;124;43midn\u001b[39;49m\u001b[38;5;124;43m'\u001b[39;49m\u001b[43m,\u001b[49m\u001b[43m \u001b[49m\u001b[38;5;124;43m'\u001b[39;49m\u001b[38;5;124;43makz\u001b[39;49m\u001b[38;5;124;43m'\u001b[39;49m\u001b[43m]\u001b[49m\u001b[43m]\u001b[49m\u001b[43m \u001b[49m\u001b[38;5;241;43m==\u001b[39;49m\u001b[43m \u001b[49m\u001b[43mdf\u001b[49m\u001b[43m[\u001b[49m\u001b[43m[\u001b[49m\u001b[38;5;124;43m'\u001b[39;49m\u001b[38;5;124;43midn\u001b[39;49m\u001b[38;5;124;43m'\u001b[39;49m\u001b[43m,\u001b[49m\u001b[43m \u001b[49m\u001b[38;5;124;43m'\u001b[39;49m\u001b[38;5;124;43makz\u001b[39;49m\u001b[38;5;124;43m'\u001b[39;49m\u001b[43m]\u001b[49m\u001b[43m]\u001b[49m)\u001b[38;5;241m.\u001b[39mall(axis\u001b[38;5;241m=\u001b[39m\u001b[38;5;241m1\u001b[39m)\n",
      "File \u001b[0;32m~/.cache/pypoetry/virtualenvs/base-_zdkNckr-py3.10/lib64/python3.10/site-packages/pandas/core/ops/common.py:70\u001b[0m, in \u001b[0;36m_unpack_zerodim_and_defer.<locals>.new_method\u001b[0;34m(self, other)\u001b[0m\n\u001b[1;32m     66\u001b[0m             \u001b[38;5;28;01mreturn\u001b[39;00m \u001b[38;5;28mNotImplemented\u001b[39m\n\u001b[1;32m     68\u001b[0m other \u001b[38;5;241m=\u001b[39m item_from_zerodim(other)\n\u001b[0;32m---> 70\u001b[0m \u001b[38;5;28;01mreturn\u001b[39;00m \u001b[43mmethod\u001b[49m\u001b[43m(\u001b[49m\u001b[38;5;28;43mself\u001b[39;49m\u001b[43m,\u001b[49m\u001b[43m \u001b[49m\u001b[43mother\u001b[49m\u001b[43m)\u001b[49m\n",
      "File \u001b[0;32m~/.cache/pypoetry/virtualenvs/base-_zdkNckr-py3.10/lib64/python3.10/site-packages/pandas/core/arraylike.py:40\u001b[0m, in \u001b[0;36mOpsMixin.__eq__\u001b[0;34m(self, other)\u001b[0m\n\u001b[1;32m     38\u001b[0m \u001b[38;5;129m@unpack_zerodim_and_defer\u001b[39m(\u001b[38;5;124m\"\u001b[39m\u001b[38;5;124m__eq__\u001b[39m\u001b[38;5;124m\"\u001b[39m)\n\u001b[1;32m     39\u001b[0m \u001b[38;5;28;01mdef\u001b[39;00m \u001b[38;5;21m__eq__\u001b[39m(\u001b[38;5;28mself\u001b[39m, other):\n\u001b[0;32m---> 40\u001b[0m     \u001b[38;5;28;01mreturn\u001b[39;00m \u001b[38;5;28;43mself\u001b[39;49m\u001b[38;5;241;43m.\u001b[39;49m\u001b[43m_cmp_method\u001b[49m\u001b[43m(\u001b[49m\u001b[43mother\u001b[49m\u001b[43m,\u001b[49m\u001b[43m \u001b[49m\u001b[43moperator\u001b[49m\u001b[38;5;241;43m.\u001b[39;49m\u001b[43meq\u001b[49m\u001b[43m)\u001b[49m\n",
      "File \u001b[0;32m~/.cache/pypoetry/virtualenvs/base-_zdkNckr-py3.10/lib64/python3.10/site-packages/pandas/core/frame.py:6937\u001b[0m, in \u001b[0;36mDataFrame._cmp_method\u001b[0;34m(self, other, op)\u001b[0m\n\u001b[1;32m   6934\u001b[0m \u001b[38;5;28;01mdef\u001b[39;00m \u001b[38;5;21m_cmp_method\u001b[39m(\u001b[38;5;28mself\u001b[39m, other, op):\n\u001b[1;32m   6935\u001b[0m     axis \u001b[38;5;241m=\u001b[39m \u001b[38;5;241m1\u001b[39m  \u001b[38;5;66;03m# only relevant for Series other case\u001b[39;00m\n\u001b[0;32m-> 6937\u001b[0m     \u001b[38;5;28mself\u001b[39m, other \u001b[38;5;241m=\u001b[39m \u001b[43mops\u001b[49m\u001b[38;5;241;43m.\u001b[39;49m\u001b[43malign_method_FRAME\u001b[49m\u001b[43m(\u001b[49m\u001b[38;5;28;43mself\u001b[39;49m\u001b[43m,\u001b[49m\u001b[43m \u001b[49m\u001b[43mother\u001b[49m\u001b[43m,\u001b[49m\u001b[43m \u001b[49m\u001b[43maxis\u001b[49m\u001b[43m,\u001b[49m\u001b[43m \u001b[49m\u001b[43mflex\u001b[49m\u001b[38;5;241;43m=\u001b[39;49m\u001b[38;5;28;43;01mFalse\u001b[39;49;00m\u001b[43m,\u001b[49m\u001b[43m \u001b[49m\u001b[43mlevel\u001b[49m\u001b[38;5;241;43m=\u001b[39;49m\u001b[38;5;28;43;01mNone\u001b[39;49;00m\u001b[43m)\u001b[49m\n\u001b[1;32m   6939\u001b[0m     \u001b[38;5;66;03m# See GH#4537 for discussion of scalar op behavior\u001b[39;00m\n\u001b[1;32m   6940\u001b[0m     new_data \u001b[38;5;241m=\u001b[39m \u001b[38;5;28mself\u001b[39m\u001b[38;5;241m.\u001b[39m_dispatch_frame_op(other, op, axis\u001b[38;5;241m=\u001b[39maxis)\n",
      "File \u001b[0;32m~/.cache/pypoetry/virtualenvs/base-_zdkNckr-py3.10/lib64/python3.10/site-packages/pandas/core/ops/__init__.py:289\u001b[0m, in \u001b[0;36malign_method_FRAME\u001b[0;34m(left, right, axis, flex, level)\u001b[0m\n\u001b[1;32m    287\u001b[0m             left, right \u001b[38;5;241m=\u001b[39m left\u001b[38;5;241m.\u001b[39malign(right, join\u001b[38;5;241m=\u001b[39m\u001b[38;5;124m\"\u001b[39m\u001b[38;5;124mouter\u001b[39m\u001b[38;5;124m\"\u001b[39m, level\u001b[38;5;241m=\u001b[39mlevel, copy\u001b[38;5;241m=\u001b[39m\u001b[38;5;28;01mFalse\u001b[39;00m)\n\u001b[1;32m    288\u001b[0m         \u001b[38;5;28;01melse\u001b[39;00m:\n\u001b[0;32m--> 289\u001b[0m             \u001b[38;5;28;01mraise\u001b[39;00m \u001b[38;5;167;01mValueError\u001b[39;00m(\n\u001b[1;32m    290\u001b[0m                 \u001b[38;5;124m\"\u001b[39m\u001b[38;5;124mCan only compare identically-labeled DataFrame objects\u001b[39m\u001b[38;5;124m\"\u001b[39m\n\u001b[1;32m    291\u001b[0m             )\n\u001b[1;32m    292\u001b[0m \u001b[38;5;28;01melif\u001b[39;00m \u001b[38;5;28misinstance\u001b[39m(right, ABCSeries):\n\u001b[1;32m    293\u001b[0m     \u001b[38;5;66;03m# axis=1 is default for DataFrame-with-Series op\u001b[39;00m\n\u001b[1;32m    294\u001b[0m     axis \u001b[38;5;241m=\u001b[39m left\u001b[38;5;241m.\u001b[39m_get_axis_number(axis) \u001b[38;5;28;01mif\u001b[39;00m axis \u001b[38;5;129;01mis\u001b[39;00m \u001b[38;5;129;01mnot\u001b[39;00m \u001b[38;5;28;01mNone\u001b[39;00m \u001b[38;5;28;01melse\u001b[39;00m \u001b[38;5;241m1\u001b[39m\n",
      "\u001b[0;31mValueError\u001b[0m: Can only compare identically-labeled DataFrame objects"
     ]
    }
   ],
   "source": [
    "excel = pd.read_excel(\n",
    "    \"../raw/II_Inkunabeln+.xlsm\", sheet_name=\"II_Inkunabeln+\", dtype={\"IDN\": str}\n",
    ")\n",
    "excel.rename({\"AKZ\": \"akz\", \"IDN\": \"idn\"}, axis=\"columns\", inplace=True)\n",
    "# excel.merge(df, how=\"left\", on=[\"akz\", \"idn\"])\n",
    "# excel[\"projekt\"] =\n",
    "\n",
    "# excel[excel.IDN.isin(df.idn) & excel.AKZ.isin(df.akz)]\n",
    "# excel.merge(\n",
    "#    right=df,\n",
    "#    left_on=[excel.idn, excel.akz],\n",
    "#    right_on=[df.idn, df.akz],\n",
    "#    indicator=True,\n",
    "#    how=\"left\",\n",
    "# )\n",
    "# df1['D'] = (df1[['A', 'B']] == df2).all(axis=1).astype(int)\n",
    "\n",
    "excel[\"D\"] = (excel[[\"idn\", \"akz\"]] == df[[\"idn\", \"akz\"]]).all(axis=1)"
   ]
  },
  {
   "cell_type": "code",
   "execution_count": 58,
   "metadata": {},
   "outputs": [
    {
     "data": {
      "text/html": [
       "<div><div id=1a9f4244-e3e6-4ff8-b5fa-8ae6f333f4b7 style=\"display:none; background-color:#9D6CFF; color:white; width:200px; height:30px; padding-left:5px; border-radius:4px; flex-direction:row; justify-content:space-around; align-items:center;\" onmouseover=\"this.style.backgroundColor='#BA9BF8'\" onmouseout=\"this.style.backgroundColor='#9D6CFF'\" onclick=\"window.commands?.execute('create-mitosheet-from-dataframe-output');\">See Full Dataframe in Mito</div> <script> if (window.commands?.hasCommand('create-mitosheet-from-dataframe-output')) document.getElementById('1a9f4244-e3e6-4ff8-b5fa-8ae6f333f4b7').style.display = 'flex' </script> <table border=\"1\" class=\"dataframe\">\n",
       "  <thead>\n",
       "    <tr style=\"text-align: right;\">\n",
       "      <th></th>\n",
       "      <th>idn</th>\n",
       "      <th>akz</th>\n",
       "    </tr>\n",
       "  </thead>\n",
       "  <tbody>\n",
       "    <tr>\n",
       "      <th>0</th>\n",
       "      <td>107238311X</td>\n",
       "      <td>L-1498-327681713</td>\n",
       "    </tr>\n",
       "    <tr>\n",
       "      <th>1</th>\n",
       "      <td>1066966540</td>\n",
       "      <td>L-1454-315496827</td>\n",
       "    </tr>\n",
       "    <tr>\n",
       "      <th>2</th>\n",
       "      <td>1066967997</td>\n",
       "      <td>L-1459-315498269</td>\n",
       "    </tr>\n",
       "    <tr>\n",
       "      <th>3</th>\n",
       "      <td>1066966419</td>\n",
       "      <td>L-1462-31549669X</td>\n",
       "    </tr>\n",
       "    <tr>\n",
       "      <th>4</th>\n",
       "      <td>106696565X</td>\n",
       "      <td>L-1467-315495871</td>\n",
       "    </tr>\n",
       "    <tr>\n",
       "      <th>...</th>\n",
       "      <td>...</td>\n",
       "      <td>...</td>\n",
       "    </tr>\n",
       "    <tr>\n",
       "      <th>747</th>\n",
       "      <td>NaN</td>\n",
       "      <td>NaN</td>\n",
       "    </tr>\n",
       "    <tr>\n",
       "      <th>748</th>\n",
       "      <td>NaN</td>\n",
       "      <td>NaN</td>\n",
       "    </tr>\n",
       "    <tr>\n",
       "      <th>749</th>\n",
       "      <td>NaN</td>\n",
       "      <td>NaN</td>\n",
       "    </tr>\n",
       "    <tr>\n",
       "      <th>750</th>\n",
       "      <td>NaN</td>\n",
       "      <td>NaN</td>\n",
       "    </tr>\n",
       "    <tr>\n",
       "      <th>751</th>\n",
       "      <td>NaN</td>\n",
       "      <td>NaN</td>\n",
       "    </tr>\n",
       "  </tbody>\n",
       "</table></div>"
      ],
      "text/plain": [
       "            idn               akz\n",
       "0    107238311X  L-1498-327681713\n",
       "1    1066966540  L-1454-315496827\n",
       "2    1066967997  L-1459-315498269\n",
       "3    1066966419  L-1462-31549669X\n",
       "4    106696565X  L-1467-315495871\n",
       "..          ...               ...\n",
       "747         NaN               NaN\n",
       "748         NaN               NaN\n",
       "749         NaN               NaN\n",
       "750         NaN               NaN\n",
       "751         NaN               NaN\n",
       "\n",
       "[752 rows x 2 columns]"
      ]
     },
     "execution_count": 58,
     "metadata": {},
     "output_type": "execute_result"
    }
   ],
   "source": [
    "excel[[\"idn\", \"akz\"]]"
   ]
  },
  {
   "cell_type": "code",
   "execution_count": 59,
   "metadata": {},
   "outputs": [
    {
     "data": {
      "text/html": [
       "<div><div id=ddc88f26-2ef3-49ce-8ff2-8136c89ff6bc style=\"display:none; background-color:#9D6CFF; color:white; width:200px; height:30px; padding-left:5px; border-radius:4px; flex-direction:row; justify-content:space-around; align-items:center;\" onmouseover=\"this.style.backgroundColor='#BA9BF8'\" onmouseout=\"this.style.backgroundColor='#9D6CFF'\" onclick=\"window.commands?.execute('create-mitosheet-from-dataframe-output');\">See Full Dataframe in Mito</div> <script> if (window.commands?.hasCommand('create-mitosheet-from-dataframe-output')) document.getElementById('ddc88f26-2ef3-49ce-8ff2-8136c89ff6bc').style.display = 'flex' </script> <table border=\"1\" class=\"dataframe\">\n",
       "  <thead>\n",
       "    <tr style=\"text-align: right;\">\n",
       "      <th></th>\n",
       "      <th>idn</th>\n",
       "      <th>akz</th>\n",
       "    </tr>\n",
       "  </thead>\n",
       "  <tbody>\n",
       "    <tr>\n",
       "      <th>0</th>\n",
       "      <td>1032687681</td>\n",
       "      <td>L-2013-303556</td>\n",
       "    </tr>\n",
       "    <tr>\n",
       "      <th>3</th>\n",
       "      <td>1048166694</td>\n",
       "      <td>L-1484-286786508</td>\n",
       "    </tr>\n",
       "    <tr>\n",
       "      <th>4</th>\n",
       "      <td>1048169669</td>\n",
       "      <td>L-1473-286787504</td>\n",
       "    </tr>\n",
       "    <tr>\n",
       "      <th>5</th>\n",
       "      <td>1048306054</td>\n",
       "      <td>L-1473-287114600</td>\n",
       "    </tr>\n",
       "    <tr>\n",
       "      <th>6</th>\n",
       "      <td>1060136910</td>\n",
       "      <td>L-1485-302645535</td>\n",
       "    </tr>\n",
       "    <tr>\n",
       "      <th>...</th>\n",
       "      <td>...</td>\n",
       "      <td>...</td>\n",
       "    </tr>\n",
       "    <tr>\n",
       "      <th>672</th>\n",
       "      <td>1085177637</td>\n",
       "      <td>L-1492-329246070</td>\n",
       "    </tr>\n",
       "    <tr>\n",
       "      <th>673</th>\n",
       "      <td>1085177750</td>\n",
       "      <td>L-1492-352777192</td>\n",
       "    </tr>\n",
       "    <tr>\n",
       "      <th>692</th>\n",
       "      <td>1162446471</td>\n",
       "      <td>L-1473-453522459</td>\n",
       "    </tr>\n",
       "    <tr>\n",
       "      <th>693</th>\n",
       "      <td>1166155838</td>\n",
       "      <td>L-1492-460784927</td>\n",
       "    </tr>\n",
       "    <tr>\n",
       "      <th>695</th>\n",
       "      <td>1200511840</td>\n",
       "      <td>L-2019-323537</td>\n",
       "    </tr>\n",
       "  </tbody>\n",
       "</table></div>"
      ],
      "text/plain": [
       "            idn               akz\n",
       "0    1032687681     L-2013-303556\n",
       "3    1048166694  L-1484-286786508\n",
       "4    1048169669  L-1473-286787504\n",
       "5    1048306054  L-1473-287114600\n",
       "6    1060136910  L-1485-302645535\n",
       "..          ...               ...\n",
       "672  1085177637  L-1492-329246070\n",
       "673  1085177750  L-1492-352777192\n",
       "692  1162446471  L-1473-453522459\n",
       "693  1166155838  L-1492-460784927\n",
       "695  1200511840     L-2019-323537\n",
       "\n",
       "[627 rows x 2 columns]"
      ]
     },
     "execution_count": 59,
     "metadata": {},
     "output_type": "execute_result"
    }
   ],
   "source": [
    "df[[\"idn\", \"akz\"]]"
   ]
  },
  {
   "cell_type": "code",
   "execution_count": null,
   "metadata": {},
   "outputs": [],
   "source": [
    "df = pd.read_csv(\"../raw/Aal-4201.csv\")\n",
    "df"
   ]
  },
  {
   "cell_type": "code",
   "execution_count": 14,
   "metadata": {},
   "outputs": [
    {
     "data": {
      "application/vnd.jupyter.widget-view+json": {
       "model_id": "350ce8c1e4d143b4a2104c6e532d6eef",
       "version_major": 2,
       "version_minor": 0
      },
      "text/plain": [
       "MitoWidget(analysis_data_json='{\"analysisName\": \"id-naezqirqvc\", \"analysisToReplay\": null, \"code\": [], \"stepSu…"
      ]
     },
     "metadata": {},
     "output_type": "display_data"
    }
   ],
   "source": [
    "import mitosheet\n",
    "\n",
    "mitosheet.sheet(df, analysis_to_replay=\"id-naezqirqvc\")"
   ]
  },
  {
   "cell_type": "code",
   "execution_count": null,
   "metadata": {},
   "outputs": [],
   "source": [
    "from mitosheet import *\n",
    "\n",
    "register_analysis(\"id-naezqirqvc\")\n",
    "\n",
    "# Set formula of jahr\n",
    "df[\"jahr\"] = SUBSTITUTE(df[\"jahr\"], \"X\", \"0\")\n",
    "\n",
    "# Changed jahr to dtype int\n",
    "df[\"jahr\"] = to_int_series(df[\"jahr\"])\n",
    "\n",
    "# Filtered jahr\n",
    "df = df[df[\"jahr\"] <= 1785]"
   ]
  },
  {
   "cell_type": "markdown",
   "metadata": {},
   "source": [
    "##### from mitosheet import *; register_analysis(\"id-naezqirqvc\");\n",
    "    \n",
    "# Set formula of jahr\n",
    "df['jahr'] = SUBSTITUTE(df['jahr'],'X','0')\n",
    "\n",
    "# Changed jahr to dtype int\n",
    "df['jahr'] = to_int_series(df['jahr'])\n"
   ]
  },
  {
   "cell_type": "code",
   "execution_count": null,
   "metadata": {},
   "outputs": [],
   "source": [
    "from mitosheet import *\n",
    "\n",
    "register_analysis(\"id-naezqirqvc\")\n",
    "\n",
    "# Set formula of jahr\n",
    "df[\"jahr\"] = SUBSTITUTE(df[\"jahr\"], \"X\", \"0\")\n",
    "\n",
    "# Changed jahr to dtype int\n",
    "df[\"jahr\"] = to_int_series(df[\"jahr\"])"
   ]
  }
 ],
 "metadata": {
  "interpreter": {
   "hash": "399238374a065e6ba8b3caf5d52dd0dd35b3269f1e87526041e7a2ed68d24989"
  },
  "kernelspec": {
   "display_name": "Python 3 (ipykernel)",
   "language": "python",
   "name": "python3"
  },
  "language_info": {
   "codemirror_mode": {
    "name": "ipython",
    "version": 3
   },
   "file_extension": ".py",
   "mimetype": "text/x-python",
   "name": "python",
   "nbconvert_exporter": "python",
   "pygments_lexer": "ipython3",
   "version": "3.10.5"
  }
 },
 "nbformat": 4,
 "nbformat_minor": 4
}
