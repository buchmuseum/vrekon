{
 "cells": [
  {
   "cell_type": "code",
   "execution_count": 5,
   "metadata": {},
   "outputs": [],
   "source": [
    "import pandas as pd\n",
    "from collections import defaultdict\n",
    "import re"
   ]
  },
  {
   "cell_type": "code",
   "execution_count": null,
   "metadata": {},
   "outputs": [],
   "source": [
    "## allgemeine Funktionen\n",
    "\n",
    "def make_nested_frame(dict) -> pd.DataFrame:\n",
    "    \"\"\"\n",
    "    Die Funktion nimmt ein dreifach verschachteltes Dict und generiert daraus ein DataFrame mit dreifachem index\n",
    "    \"\"\"\n",
    "    return pd.DataFrame.from_dict({(k1, k2, k3): v3 \n",
    "      for k1, v1 in dict.items() \n",
    "      for k2, v2 in v1.items()\n",
    "      for k3, v3 in v2.items()},\n",
    "      orient='index', dtype='object')\n",
    "\n",
    "def feldauswertung(kategorie: str, inhalt: str) -> list[tuple[str,str]]:\n",
    "    \"\"\"\n",
    "    Die Funktion hat zwei Argumente: die Pica-Kategorie und den Feldinhalt.\n",
    "    Per regex wird das gewünschte Unterfeld gesucht und in einem tuple mit der Klarfeldbezeichnung ausgegeben.\n",
    "    Weil auch Unterfelder wiederholbar sind, kommt eine Liste von Tupeln zurück.\n",
    "    \"\"\"\n",
    "    ergebnisse = list()\n",
    "    matchlist = [\n",
    "        ('209A','f','standort'),\n",
    "        ('209A','g','signatur_g'),\n",
    "        ('209A','d','ausleihcode'),\n",
    "        ('209A','a','signatur_a'),\n",
    "        ('209A','c','sig_komm'),\n",
    "        ('209C','a','akz'),\n",
    "        ('237A','a','f4801_a'),\n",
    "        ('237A','k','f4801_k'),\n",
    "        ('247C','9','bibliothek')]\n",
    "\n",
    "    for match in matchlist:\n",
    "        if kategorie == match[0]:        \n",
    "            ergebnisse.append((match[2],'; '.join(re.findall(f\"\\${match[1]}([^\\$]+)\", inhalt))))\n",
    "    \n",
    "    return ergebnisse\n",
    "\n",
    "\n",
    "def get_exemplare(dateiname: str) -> pd.DataFrame:\n",
    "    \"\"\"\n",
    "    Auf IDN und Exemplardatenfelder reduzierter Dump, dessen Dateiname als Argument übergeben wird, wird in df mit gewünschten Feldern umgewandelt\n",
    "    \"\"\"\n",
    "    with open(f'../raw/{dateiname}', 'r') as f:\n",
    "        df = pd.DataFrame()\n",
    "        for l in f:\n",
    "            # print(l)\n",
    "            line = l.split(' ',1)\n",
    "            if l == '\\n':\n",
    "                df = pd.concat([df,make_nested_frame(exemplare)])\n",
    "\n",
    "            elif line[0] == '003@':\n",
    "                exemplare = defaultdict(lambda: defaultdict(lambda: defaultdict(lambda:defaultdict(str))))\n",
    "                idn = line[1][2:].strip()\n",
    "            elif line[0] == '101@':\n",
    "                einrichtung = line[1][2:].strip()\n",
    "            \n",
    "            else:\n",
    "                feld = line[0].split('/')\n",
    "                feldergebnis = feldauswertung(feld[0],line[1].strip())\n",
    "                for ergebnis in feldergebnis:\n",
    "                    # der seltsame join deshalb, weil Felder auch wiederholt werden können und die Ergebnisse dann zusammengezogen und durch Semikolon getrennt werden. wahrscheinlich nicht die beste lösung.\n",
    "                    exemplare[idn][einrichtung][feld[1]][ergebnis[0]] = '; '.join([ergebnis[1],exemplare[idn][einrichtung][feld[1]][ergebnis[0]]])  \n",
    "        \n",
    "        df.index.set_names(['idn','einrichtung','exemplar'], inplace=True)\n",
    "        return df\n",
    " \n",
    "def get_exemplare_neu(dateiname: str) -> pd.DataFrame:\n",
    "    with open(f'../raw/{dateiname}', 'r') as f:\n",
    "        for l in f:\n",
    "            line = l.split(' ',1)\n",
    "            if l == '\\n':\n",
    "                # idn-satz schreiben\n",
    "            elif line[0] == '003@':\n",
    "                # idn setzen\n",
    "                idn = line[1][2:].strip()\n",
    "                \n",
    "            elif line[0] == '101@':\n",
    "                # einrichtung setzen\n",
    "                einrichtung = line[1][2:].strip()\n",
    "            else:\n",
    "                # feld setzen\n",
    "                feld = line[0].split('/')\n",
    "                feldergebnis = feldauswertung(feld[0],line[1].strip())\n",
    "                for ergebnis in feldergebnis:\n",
    "                    \n",
    "\n",
    "            \n",
    "\n"
   ]
  },
  {
   "cell_type": "code",
   "execution_count": 2,
   "metadata": {},
   "outputs": [
    {
     "name": "stdout",
     "output_type": "stream",
     "text": [
      "<class 'pandas.core.frame.DataFrame'>\n",
      "Index: 3 entries, idn to exemplar\n",
      "Empty DataFrame"
     ]
    }
   ],
   "source": [
    "df = pd.DataFrame(index=['idn','einrichtung','exemplar'])\n",
    "df.info()"
   ]
  },
  {
   "cell_type": "code",
   "execution_count": 3,
   "metadata": {},
   "outputs": [
    {
     "data": {
      "text/html": [
       "<div>\n",
       "<style scoped>\n",
       "    .dataframe tbody tr th:only-of-type {\n",
       "        vertical-align: middle;\n",
       "    }\n",
       "\n",
       "    .dataframe tbody tr th {\n",
       "        vertical-align: top;\n",
       "    }\n",
       "\n",
       "    .dataframe thead th {\n",
       "        text-align: right;\n",
       "    }\n",
       "</style>\n",
       "<table border=\"1\" class=\"dataframe\">\n",
       "  <thead>\n",
       "    <tr style=\"text-align: right;\">\n",
       "      <th></th>\n",
       "    </tr>\n",
       "  </thead>\n",
       "  <tbody>\n",
       "    <tr>\n",
       "      <th>idn</th>\n",
       "    </tr>\n",
       "    <tr>\n",
       "      <th>einrichtung</th>\n",
       "    </tr>\n",
       "    <tr>\n",
       "      <th>exemplar</th>\n",
       "    </tr>\n",
       "  </tbody>\n",
       "</table>\n",
       "</div>"
      ],
      "text/plain": [
       "Empty DataFrame\n",
       "Columns: []\n",
       "Index: [idn, einrichtung, exemplar]"
      ]
     },
     "execution_count": 3,
     "metadata": {},
     "output_type": "execute_result"
    }
   ],
   "source": [
    "df"
   ]
  },
  {
   "cell_type": "code",
   "execution_count": null,
   "metadata": {},
   "outputs": [],
   "source": []
  }
 ],
 "metadata": {
  "interpreter": {
   "hash": "399238374a065e6ba8b3caf5d52dd0dd35b3269f1e87526041e7a2ed68d24989"
  },
  "kernelspec": {
   "display_name": "Python 3.9.7 64-bit ('base-poNABwGt-py3.9': poetry)",
   "language": "python",
   "name": "python3"
  },
  "language_info": {
   "codemirror_mode": {
    "name": "ipython",
    "version": 3
   },
   "file_extension": ".py",
   "mimetype": "text/x-python",
   "name": "python",
   "nbconvert_exporter": "python",
   "pygments_lexer": "ipython3",
   "version": "3.9.7"
  },
  "orig_nbformat": 4
 },
 "nbformat": 4,
 "nbformat_minor": 2
}
